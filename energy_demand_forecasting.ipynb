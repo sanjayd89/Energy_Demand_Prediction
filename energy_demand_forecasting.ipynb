{
  "nbformat": 4,
  "nbformat_minor": 0,
  "metadata": {
    "colab": {
      "provenance": [],
      "toc_visible": true,
      "authorship_tag": "ABX9TyNmkyMpumAAIq9H8UkqrOcL"
    },
    "kernelspec": {
      "name": "python3",
      "display_name": "Python 3"
    },
    "language_info": {
      "name": "python"
    }
  },
  "cells": [
    {
      "cell_type": "markdown",
      "source": [
        "# **Problem Statement**"
      ],
      "metadata": {
        "id": "qC4y6mPV0JkZ"
      }
    },
    {
      "cell_type": "markdown",
      "source": [
        "Welcome to Green - A country well known for its greenery and natural resources. Green is working towards the betterment of the environment, natural resources, and health of citizens. Over the past few years, Green has improvised its natural resources by enabling the technologies for a safer future. \n",
        "\n",
        "\n",
        "The major investment happened to be in renewable energy. As of today, renewable energy contributes to 60% of the total energy capacity in the country. By 2030, the target is to generate 95% of the total energy through renewable energy.\n",
        "\n",
        "\n",
        "In order to achieve this objective, the government of Green Energy would like to use Data Science to understand the total energy demand of the country in the near future. This will help the government to build the infrastructure and technologies to achieve 95% of the total energy capacity via renewable energy.\n",
        "\n",
        "\n",
        "They have captured the estimated total energy demand from the past 12 years on an hourly basis. Now, the government of Green Energy is looking for a data scientist to understand the data and forecast the total energy demand for the next 3 years based on past trends.\n",
        "\n",
        "\n",
        "Help Green! Save Nature! Stay Healthy!\n",
        "\n",
        "![](https://www.greenesa.com/public/uploads/news/1632327662RenewableenergysourcestypesGreenesa.png)\n",
        "\n",
        "## **Objective**\n",
        "\n",
        "The task is to build a model to forecast the total energy demand on an hourly basis for the next 3 years based on past trends.\n",
        "\n"
      ],
      "metadata": {
        "id": "1x2hREt_0LsE"
      }
    },
    {
      "cell_type": "markdown",
      "source": [
        "# 1.0 Importing dependencies\n",
        "\n"
      ],
      "metadata": {
        "id": "fJem-W8HphJl"
      }
    },
    {
      "cell_type": "code",
      "source": [
        "import pandas as pd\n",
        "import numpy as np\n",
        "\n",
        "import matplotlib.pyplot as plt\n",
        "%matplotlib inline\n",
        "import seaborn as sns"
      ],
      "metadata": {
        "id": "2sDnorGfplUD"
      },
      "execution_count": null,
      "outputs": []
    },
    {
      "cell_type": "code",
      "source": [
        "data = pd.read_csv('train_IxoE5JN.csv')\n",
        "data.head()"
      ],
      "metadata": {
        "colab": {
          "base_uri": "https://localhost:8080/",
          "height": 206
        },
        "id": "GE0CZS1ZplWr",
        "outputId": "d787eeba-2d6c-44c2-d292-c1b512da29cb"
      },
      "execution_count": null,
      "outputs": [
        {
          "output_type": "execute_result",
          "data": {
            "text/plain": [
              "   row_id             datetime       energy\n",
              "0       1  2008-03-01 00:00:00  1259.985563\n",
              "1       2  2008-03-01 01:00:00  1095.541500\n",
              "2       3  2008-03-01 02:00:00  1056.247500\n",
              "3       4  2008-03-01 03:00:00  1034.742000\n",
              "4       5  2008-03-01 04:00:00  1026.334500"
            ],
            "text/html": [
              "\n",
              "  <div id=\"df-2fdb4462-e187-49cb-a10c-6aaa47a98d27\">\n",
              "    <div class=\"colab-df-container\">\n",
              "      <div>\n",
              "<style scoped>\n",
              "    .dataframe tbody tr th:only-of-type {\n",
              "        vertical-align: middle;\n",
              "    }\n",
              "\n",
              "    .dataframe tbody tr th {\n",
              "        vertical-align: top;\n",
              "    }\n",
              "\n",
              "    .dataframe thead th {\n",
              "        text-align: right;\n",
              "    }\n",
              "</style>\n",
              "<table border=\"1\" class=\"dataframe\">\n",
              "  <thead>\n",
              "    <tr style=\"text-align: right;\">\n",
              "      <th></th>\n",
              "      <th>row_id</th>\n",
              "      <th>datetime</th>\n",
              "      <th>energy</th>\n",
              "    </tr>\n",
              "  </thead>\n",
              "  <tbody>\n",
              "    <tr>\n",
              "      <th>0</th>\n",
              "      <td>1</td>\n",
              "      <td>2008-03-01 00:00:00</td>\n",
              "      <td>1259.985563</td>\n",
              "    </tr>\n",
              "    <tr>\n",
              "      <th>1</th>\n",
              "      <td>2</td>\n",
              "      <td>2008-03-01 01:00:00</td>\n",
              "      <td>1095.541500</td>\n",
              "    </tr>\n",
              "    <tr>\n",
              "      <th>2</th>\n",
              "      <td>3</td>\n",
              "      <td>2008-03-01 02:00:00</td>\n",
              "      <td>1056.247500</td>\n",
              "    </tr>\n",
              "    <tr>\n",
              "      <th>3</th>\n",
              "      <td>4</td>\n",
              "      <td>2008-03-01 03:00:00</td>\n",
              "      <td>1034.742000</td>\n",
              "    </tr>\n",
              "    <tr>\n",
              "      <th>4</th>\n",
              "      <td>5</td>\n",
              "      <td>2008-03-01 04:00:00</td>\n",
              "      <td>1026.334500</td>\n",
              "    </tr>\n",
              "  </tbody>\n",
              "</table>\n",
              "</div>\n",
              "      <button class=\"colab-df-convert\" onclick=\"convertToInteractive('df-2fdb4462-e187-49cb-a10c-6aaa47a98d27')\"\n",
              "              title=\"Convert this dataframe to an interactive table.\"\n",
              "              style=\"display:none;\">\n",
              "        \n",
              "  <svg xmlns=\"http://www.w3.org/2000/svg\" height=\"24px\"viewBox=\"0 0 24 24\"\n",
              "       width=\"24px\">\n",
              "    <path d=\"M0 0h24v24H0V0z\" fill=\"none\"/>\n",
              "    <path d=\"M18.56 5.44l.94 2.06.94-2.06 2.06-.94-2.06-.94-.94-2.06-.94 2.06-2.06.94zm-11 1L8.5 8.5l.94-2.06 2.06-.94-2.06-.94L8.5 2.5l-.94 2.06-2.06.94zm10 10l.94 2.06.94-2.06 2.06-.94-2.06-.94-.94-2.06-.94 2.06-2.06.94z\"/><path d=\"M17.41 7.96l-1.37-1.37c-.4-.4-.92-.59-1.43-.59-.52 0-1.04.2-1.43.59L10.3 9.45l-7.72 7.72c-.78.78-.78 2.05 0 2.83L4 21.41c.39.39.9.59 1.41.59.51 0 1.02-.2 1.41-.59l7.78-7.78 2.81-2.81c.8-.78.8-2.07 0-2.86zM5.41 20L4 18.59l7.72-7.72 1.47 1.35L5.41 20z\"/>\n",
              "  </svg>\n",
              "      </button>\n",
              "      \n",
              "  <style>\n",
              "    .colab-df-container {\n",
              "      display:flex;\n",
              "      flex-wrap:wrap;\n",
              "      gap: 12px;\n",
              "    }\n",
              "\n",
              "    .colab-df-convert {\n",
              "      background-color: #E8F0FE;\n",
              "      border: none;\n",
              "      border-radius: 50%;\n",
              "      cursor: pointer;\n",
              "      display: none;\n",
              "      fill: #1967D2;\n",
              "      height: 32px;\n",
              "      padding: 0 0 0 0;\n",
              "      width: 32px;\n",
              "    }\n",
              "\n",
              "    .colab-df-convert:hover {\n",
              "      background-color: #E2EBFA;\n",
              "      box-shadow: 0px 1px 2px rgba(60, 64, 67, 0.3), 0px 1px 3px 1px rgba(60, 64, 67, 0.15);\n",
              "      fill: #174EA6;\n",
              "    }\n",
              "\n",
              "    [theme=dark] .colab-df-convert {\n",
              "      background-color: #3B4455;\n",
              "      fill: #D2E3FC;\n",
              "    }\n",
              "\n",
              "    [theme=dark] .colab-df-convert:hover {\n",
              "      background-color: #434B5C;\n",
              "      box-shadow: 0px 1px 3px 1px rgba(0, 0, 0, 0.15);\n",
              "      filter: drop-shadow(0px 1px 2px rgba(0, 0, 0, 0.3));\n",
              "      fill: #FFFFFF;\n",
              "    }\n",
              "  </style>\n",
              "\n",
              "      <script>\n",
              "        const buttonEl =\n",
              "          document.querySelector('#df-2fdb4462-e187-49cb-a10c-6aaa47a98d27 button.colab-df-convert');\n",
              "        buttonEl.style.display =\n",
              "          google.colab.kernel.accessAllowed ? 'block' : 'none';\n",
              "\n",
              "        async function convertToInteractive(key) {\n",
              "          const element = document.querySelector('#df-2fdb4462-e187-49cb-a10c-6aaa47a98d27');\n",
              "          const dataTable =\n",
              "            await google.colab.kernel.invokeFunction('convertToInteractive',\n",
              "                                                     [key], {});\n",
              "          if (!dataTable) return;\n",
              "\n",
              "          const docLinkHtml = 'Like what you see? Visit the ' +\n",
              "            '<a target=\"_blank\" href=https://colab.research.google.com/notebooks/data_table.ipynb>data table notebook</a>'\n",
              "            + ' to learn more about interactive tables.';\n",
              "          element.innerHTML = '';\n",
              "          dataTable['output_type'] = 'display_data';\n",
              "          await google.colab.output.renderOutput(dataTable, element);\n",
              "          const docLink = document.createElement('div');\n",
              "          docLink.innerHTML = docLinkHtml;\n",
              "          element.appendChild(docLink);\n",
              "        }\n",
              "      </script>\n",
              "    </div>\n",
              "  </div>\n",
              "  "
            ]
          },
          "metadata": {},
          "execution_count": 75
        }
      ]
    },
    {
      "cell_type": "markdown",
      "source": [
        "# 2.0 Preprocessing"
      ],
      "metadata": {
        "id": "XmN5aVryp5F9"
      }
    },
    {
      "cell_type": "code",
      "source": [
        "data.info()"
      ],
      "metadata": {
        "colab": {
          "base_uri": "https://localhost:8080/"
        },
        "id": "GjE2yq_jplar",
        "outputId": "57310c0a-05cb-4dc8-cac1-c577a95af5a5"
      },
      "execution_count": null,
      "outputs": [
        {
          "output_type": "stream",
          "name": "stdout",
          "text": [
            "<class 'pandas.core.frame.DataFrame'>\n",
            "RangeIndex: 94992 entries, 0 to 94991\n",
            "Data columns (total 3 columns):\n",
            " #   Column    Non-Null Count  Dtype  \n",
            "---  ------    --------------  -----  \n",
            " 0   row_id    94992 non-null  int64  \n",
            " 1   datetime  94992 non-null  object \n",
            " 2   energy    93092 non-null  float64\n",
            "dtypes: float64(1), int64(1), object(1)\n",
            "memory usage: 2.2+ MB\n"
          ]
        }
      ]
    },
    {
      "cell_type": "code",
      "source": [
        "data.isna().sum()"
      ],
      "metadata": {
        "colab": {
          "base_uri": "https://localhost:8080/"
        },
        "id": "VW1PSgTLqKea",
        "outputId": "cb17dd54-477f-4bea-b9bc-c771e72681ad"
      },
      "execution_count": null,
      "outputs": [
        {
          "output_type": "execute_result",
          "data": {
            "text/plain": [
              "row_id         0\n",
              "datetime       0\n",
              "energy      1900\n",
              "dtype: int64"
            ]
          },
          "metadata": {},
          "execution_count": 77
        }
      ]
    },
    {
      "cell_type": "code",
      "source": [
        "#converting datetime column to be pandas recognisable datetime\n",
        "data['datetime'] = pd.to_datetime(data['datetime'])"
      ],
      "metadata": {
        "id": "D2qlpDl7qKv-"
      },
      "execution_count": null,
      "outputs": []
    },
    {
      "cell_type": "code",
      "source": [
        "#filling in the missing values in energy\n",
        "data = data.ffill(axis = 0)"
      ],
      "metadata": {
        "id": "3nDLhNtvr3m0"
      },
      "execution_count": null,
      "outputs": []
    },
    {
      "cell_type": "code",
      "source": [
        "data.tail()"
      ],
      "metadata": {
        "colab": {
          "base_uri": "https://localhost:8080/",
          "height": 206
        },
        "id": "aBkBywKPrSqD",
        "outputId": "f6688f12-383b-4e25-94d3-19f28febf6ec"
      },
      "execution_count": null,
      "outputs": [
        {
          "output_type": "execute_result",
          "data": {
            "text/plain": [
              "       row_id            datetime     energy\n",
              "94987   94988 2018-12-31 19:00:00  2528.4468\n",
              "94988   94989 2018-12-31 20:00:00  2461.8836\n",
              "94989   94990 2018-12-31 21:00:00  2365.9944\n",
              "94990   94991 2018-12-31 22:00:00  2342.9428\n",
              "94991   94992 2018-12-31 23:00:00  2180.2176"
            ],
            "text/html": [
              "\n",
              "  <div id=\"df-5420c23c-6cbc-4829-818f-6b29ae3d27b5\">\n",
              "    <div class=\"colab-df-container\">\n",
              "      <div>\n",
              "<style scoped>\n",
              "    .dataframe tbody tr th:only-of-type {\n",
              "        vertical-align: middle;\n",
              "    }\n",
              "\n",
              "    .dataframe tbody tr th {\n",
              "        vertical-align: top;\n",
              "    }\n",
              "\n",
              "    .dataframe thead th {\n",
              "        text-align: right;\n",
              "    }\n",
              "</style>\n",
              "<table border=\"1\" class=\"dataframe\">\n",
              "  <thead>\n",
              "    <tr style=\"text-align: right;\">\n",
              "      <th></th>\n",
              "      <th>row_id</th>\n",
              "      <th>datetime</th>\n",
              "      <th>energy</th>\n",
              "    </tr>\n",
              "  </thead>\n",
              "  <tbody>\n",
              "    <tr>\n",
              "      <th>94987</th>\n",
              "      <td>94988</td>\n",
              "      <td>2018-12-31 19:00:00</td>\n",
              "      <td>2528.4468</td>\n",
              "    </tr>\n",
              "    <tr>\n",
              "      <th>94988</th>\n",
              "      <td>94989</td>\n",
              "      <td>2018-12-31 20:00:00</td>\n",
              "      <td>2461.8836</td>\n",
              "    </tr>\n",
              "    <tr>\n",
              "      <th>94989</th>\n",
              "      <td>94990</td>\n",
              "      <td>2018-12-31 21:00:00</td>\n",
              "      <td>2365.9944</td>\n",
              "    </tr>\n",
              "    <tr>\n",
              "      <th>94990</th>\n",
              "      <td>94991</td>\n",
              "      <td>2018-12-31 22:00:00</td>\n",
              "      <td>2342.9428</td>\n",
              "    </tr>\n",
              "    <tr>\n",
              "      <th>94991</th>\n",
              "      <td>94992</td>\n",
              "      <td>2018-12-31 23:00:00</td>\n",
              "      <td>2180.2176</td>\n",
              "    </tr>\n",
              "  </tbody>\n",
              "</table>\n",
              "</div>\n",
              "      <button class=\"colab-df-convert\" onclick=\"convertToInteractive('df-5420c23c-6cbc-4829-818f-6b29ae3d27b5')\"\n",
              "              title=\"Convert this dataframe to an interactive table.\"\n",
              "              style=\"display:none;\">\n",
              "        \n",
              "  <svg xmlns=\"http://www.w3.org/2000/svg\" height=\"24px\"viewBox=\"0 0 24 24\"\n",
              "       width=\"24px\">\n",
              "    <path d=\"M0 0h24v24H0V0z\" fill=\"none\"/>\n",
              "    <path d=\"M18.56 5.44l.94 2.06.94-2.06 2.06-.94-2.06-.94-.94-2.06-.94 2.06-2.06.94zm-11 1L8.5 8.5l.94-2.06 2.06-.94-2.06-.94L8.5 2.5l-.94 2.06-2.06.94zm10 10l.94 2.06.94-2.06 2.06-.94-2.06-.94-.94-2.06-.94 2.06-2.06.94z\"/><path d=\"M17.41 7.96l-1.37-1.37c-.4-.4-.92-.59-1.43-.59-.52 0-1.04.2-1.43.59L10.3 9.45l-7.72 7.72c-.78.78-.78 2.05 0 2.83L4 21.41c.39.39.9.59 1.41.59.51 0 1.02-.2 1.41-.59l7.78-7.78 2.81-2.81c.8-.78.8-2.07 0-2.86zM5.41 20L4 18.59l7.72-7.72 1.47 1.35L5.41 20z\"/>\n",
              "  </svg>\n",
              "      </button>\n",
              "      \n",
              "  <style>\n",
              "    .colab-df-container {\n",
              "      display:flex;\n",
              "      flex-wrap:wrap;\n",
              "      gap: 12px;\n",
              "    }\n",
              "\n",
              "    .colab-df-convert {\n",
              "      background-color: #E8F0FE;\n",
              "      border: none;\n",
              "      border-radius: 50%;\n",
              "      cursor: pointer;\n",
              "      display: none;\n",
              "      fill: #1967D2;\n",
              "      height: 32px;\n",
              "      padding: 0 0 0 0;\n",
              "      width: 32px;\n",
              "    }\n",
              "\n",
              "    .colab-df-convert:hover {\n",
              "      background-color: #E2EBFA;\n",
              "      box-shadow: 0px 1px 2px rgba(60, 64, 67, 0.3), 0px 1px 3px 1px rgba(60, 64, 67, 0.15);\n",
              "      fill: #174EA6;\n",
              "    }\n",
              "\n",
              "    [theme=dark] .colab-df-convert {\n",
              "      background-color: #3B4455;\n",
              "      fill: #D2E3FC;\n",
              "    }\n",
              "\n",
              "    [theme=dark] .colab-df-convert:hover {\n",
              "      background-color: #434B5C;\n",
              "      box-shadow: 0px 1px 3px 1px rgba(0, 0, 0, 0.15);\n",
              "      filter: drop-shadow(0px 1px 2px rgba(0, 0, 0, 0.3));\n",
              "      fill: #FFFFFF;\n",
              "    }\n",
              "  </style>\n",
              "\n",
              "      <script>\n",
              "        const buttonEl =\n",
              "          document.querySelector('#df-5420c23c-6cbc-4829-818f-6b29ae3d27b5 button.colab-df-convert');\n",
              "        buttonEl.style.display =\n",
              "          google.colab.kernel.accessAllowed ? 'block' : 'none';\n",
              "\n",
              "        async function convertToInteractive(key) {\n",
              "          const element = document.querySelector('#df-5420c23c-6cbc-4829-818f-6b29ae3d27b5');\n",
              "          const dataTable =\n",
              "            await google.colab.kernel.invokeFunction('convertToInteractive',\n",
              "                                                     [key], {});\n",
              "          if (!dataTable) return;\n",
              "\n",
              "          const docLinkHtml = 'Like what you see? Visit the ' +\n",
              "            '<a target=\"_blank\" href=https://colab.research.google.com/notebooks/data_table.ipynb>data table notebook</a>'\n",
              "            + ' to learn more about interactive tables.';\n",
              "          element.innerHTML = '';\n",
              "          dataTable['output_type'] = 'display_data';\n",
              "          await google.colab.output.renderOutput(dataTable, element);\n",
              "          const docLink = document.createElement('div');\n",
              "          docLink.innerHTML = docLinkHtml;\n",
              "          element.appendChild(docLink);\n",
              "        }\n",
              "      </script>\n",
              "    </div>\n",
              "  </div>\n",
              "  "
            ]
          },
          "metadata": {},
          "execution_count": 80
        }
      ]
    },
    {
      "cell_type": "code",
      "source": [
        "max = data['datetime'].max()\n",
        "min = data['datetime'].min()\n",
        "max - min"
      ],
      "metadata": {
        "colab": {
          "base_uri": "https://localhost:8080/"
        },
        "id": "hK_CoqJqra7l",
        "outputId": "31c39560-25e1-40d5-b4d8-7f4a79fcb07c"
      },
      "execution_count": null,
      "outputs": [
        {
          "output_type": "execute_result",
          "data": {
            "text/plain": [
              "Timedelta('3957 days 23:00:00')"
            ]
          },
          "metadata": {},
          "execution_count": 81
        }
      ]
    },
    {
      "cell_type": "code",
      "source": [
        "(3957*24)+24"
      ],
      "metadata": {
        "colab": {
          "base_uri": "https://localhost:8080/"
        },
        "id": "7vVkifW7rk-d",
        "outputId": "4f9dc5e2-d77a-4bb3-e5f0-2300e6669dc4"
      },
      "execution_count": null,
      "outputs": [
        {
          "output_type": "execute_result",
          "data": {
            "text/plain": [
              "94992"
            ]
          },
          "metadata": {},
          "execution_count": 82
        }
      ]
    },
    {
      "cell_type": "markdown",
      "source": [
        "## 1 Pre-processing Insights\n",
        "- datetime is considered as object. converted using pd.datetime\n",
        "- some null values in Energy. will use pandas fill method\n",
        "- Total number rows in train data = number of hours from start and end date i.e. there is no time jump between consecutive rows"
      ],
      "metadata": {
        "id": "lTZNtwhNrqDv"
      }
    },
    {
      "cell_type": "markdown",
      "source": [
        "## 2 Distribution over hours/days/months/years"
      ],
      "metadata": {
        "id": "T8iy5la2IPtg"
      }
    },
    {
      "cell_type": "code",
      "source": [
        "data['hour'] = data['datetime'].dt.hour\n",
        "data['day'] = data['datetime'].dt.dayofweek #It is assumed the week starts on Monday, which is denoted by 0\n",
        "data['month'] = data['datetime'].dt.month\n",
        "data['year'] = data['datetime'].dt.year"
      ],
      "metadata": {
        "id": "FAMAnRTIHcwH"
      },
      "execution_count": null,
      "outputs": []
    },
    {
      "cell_type": "code",
      "source": [
        "data.head()"
      ],
      "metadata": {
        "colab": {
          "base_uri": "https://localhost:8080/",
          "height": 206
        },
        "id": "T5RYOCxVHczF",
        "outputId": "015f0a9e-74e3-4036-9c56-b6048f2a8ae7"
      },
      "execution_count": null,
      "outputs": [
        {
          "output_type": "execute_result",
          "data": {
            "text/plain": [
              "   row_id            datetime       energy  hour  day  month  year\n",
              "0       1 2008-03-01 00:00:00  1259.985563     0    5      3  2008\n",
              "1       2 2008-03-01 01:00:00  1095.541500     1    5      3  2008\n",
              "2       3 2008-03-01 02:00:00  1056.247500     2    5      3  2008\n",
              "3       4 2008-03-01 03:00:00  1034.742000     3    5      3  2008\n",
              "4       5 2008-03-01 04:00:00  1026.334500     4    5      3  2008"
            ],
            "text/html": [
              "\n",
              "  <div id=\"df-b4bfe67d-099c-443e-8df9-aadab6ced7e8\">\n",
              "    <div class=\"colab-df-container\">\n",
              "      <div>\n",
              "<style scoped>\n",
              "    .dataframe tbody tr th:only-of-type {\n",
              "        vertical-align: middle;\n",
              "    }\n",
              "\n",
              "    .dataframe tbody tr th {\n",
              "        vertical-align: top;\n",
              "    }\n",
              "\n",
              "    .dataframe thead th {\n",
              "        text-align: right;\n",
              "    }\n",
              "</style>\n",
              "<table border=\"1\" class=\"dataframe\">\n",
              "  <thead>\n",
              "    <tr style=\"text-align: right;\">\n",
              "      <th></th>\n",
              "      <th>row_id</th>\n",
              "      <th>datetime</th>\n",
              "      <th>energy</th>\n",
              "      <th>hour</th>\n",
              "      <th>day</th>\n",
              "      <th>month</th>\n",
              "      <th>year</th>\n",
              "    </tr>\n",
              "  </thead>\n",
              "  <tbody>\n",
              "    <tr>\n",
              "      <th>0</th>\n",
              "      <td>1</td>\n",
              "      <td>2008-03-01 00:00:00</td>\n",
              "      <td>1259.985563</td>\n",
              "      <td>0</td>\n",
              "      <td>5</td>\n",
              "      <td>3</td>\n",
              "      <td>2008</td>\n",
              "    </tr>\n",
              "    <tr>\n",
              "      <th>1</th>\n",
              "      <td>2</td>\n",
              "      <td>2008-03-01 01:00:00</td>\n",
              "      <td>1095.541500</td>\n",
              "      <td>1</td>\n",
              "      <td>5</td>\n",
              "      <td>3</td>\n",
              "      <td>2008</td>\n",
              "    </tr>\n",
              "    <tr>\n",
              "      <th>2</th>\n",
              "      <td>3</td>\n",
              "      <td>2008-03-01 02:00:00</td>\n",
              "      <td>1056.247500</td>\n",
              "      <td>2</td>\n",
              "      <td>5</td>\n",
              "      <td>3</td>\n",
              "      <td>2008</td>\n",
              "    </tr>\n",
              "    <tr>\n",
              "      <th>3</th>\n",
              "      <td>4</td>\n",
              "      <td>2008-03-01 03:00:00</td>\n",
              "      <td>1034.742000</td>\n",
              "      <td>3</td>\n",
              "      <td>5</td>\n",
              "      <td>3</td>\n",
              "      <td>2008</td>\n",
              "    </tr>\n",
              "    <tr>\n",
              "      <th>4</th>\n",
              "      <td>5</td>\n",
              "      <td>2008-03-01 04:00:00</td>\n",
              "      <td>1026.334500</td>\n",
              "      <td>4</td>\n",
              "      <td>5</td>\n",
              "      <td>3</td>\n",
              "      <td>2008</td>\n",
              "    </tr>\n",
              "  </tbody>\n",
              "</table>\n",
              "</div>\n",
              "      <button class=\"colab-df-convert\" onclick=\"convertToInteractive('df-b4bfe67d-099c-443e-8df9-aadab6ced7e8')\"\n",
              "              title=\"Convert this dataframe to an interactive table.\"\n",
              "              style=\"display:none;\">\n",
              "        \n",
              "  <svg xmlns=\"http://www.w3.org/2000/svg\" height=\"24px\"viewBox=\"0 0 24 24\"\n",
              "       width=\"24px\">\n",
              "    <path d=\"M0 0h24v24H0V0z\" fill=\"none\"/>\n",
              "    <path d=\"M18.56 5.44l.94 2.06.94-2.06 2.06-.94-2.06-.94-.94-2.06-.94 2.06-2.06.94zm-11 1L8.5 8.5l.94-2.06 2.06-.94-2.06-.94L8.5 2.5l-.94 2.06-2.06.94zm10 10l.94 2.06.94-2.06 2.06-.94-2.06-.94-.94-2.06-.94 2.06-2.06.94z\"/><path d=\"M17.41 7.96l-1.37-1.37c-.4-.4-.92-.59-1.43-.59-.52 0-1.04.2-1.43.59L10.3 9.45l-7.72 7.72c-.78.78-.78 2.05 0 2.83L4 21.41c.39.39.9.59 1.41.59.51 0 1.02-.2 1.41-.59l7.78-7.78 2.81-2.81c.8-.78.8-2.07 0-2.86zM5.41 20L4 18.59l7.72-7.72 1.47 1.35L5.41 20z\"/>\n",
              "  </svg>\n",
              "      </button>\n",
              "      \n",
              "  <style>\n",
              "    .colab-df-container {\n",
              "      display:flex;\n",
              "      flex-wrap:wrap;\n",
              "      gap: 12px;\n",
              "    }\n",
              "\n",
              "    .colab-df-convert {\n",
              "      background-color: #E8F0FE;\n",
              "      border: none;\n",
              "      border-radius: 50%;\n",
              "      cursor: pointer;\n",
              "      display: none;\n",
              "      fill: #1967D2;\n",
              "      height: 32px;\n",
              "      padding: 0 0 0 0;\n",
              "      width: 32px;\n",
              "    }\n",
              "\n",
              "    .colab-df-convert:hover {\n",
              "      background-color: #E2EBFA;\n",
              "      box-shadow: 0px 1px 2px rgba(60, 64, 67, 0.3), 0px 1px 3px 1px rgba(60, 64, 67, 0.15);\n",
              "      fill: #174EA6;\n",
              "    }\n",
              "\n",
              "    [theme=dark] .colab-df-convert {\n",
              "      background-color: #3B4455;\n",
              "      fill: #D2E3FC;\n",
              "    }\n",
              "\n",
              "    [theme=dark] .colab-df-convert:hover {\n",
              "      background-color: #434B5C;\n",
              "      box-shadow: 0px 1px 3px 1px rgba(0, 0, 0, 0.15);\n",
              "      filter: drop-shadow(0px 1px 2px rgba(0, 0, 0, 0.3));\n",
              "      fill: #FFFFFF;\n",
              "    }\n",
              "  </style>\n",
              "\n",
              "      <script>\n",
              "        const buttonEl =\n",
              "          document.querySelector('#df-b4bfe67d-099c-443e-8df9-aadab6ced7e8 button.colab-df-convert');\n",
              "        buttonEl.style.display =\n",
              "          google.colab.kernel.accessAllowed ? 'block' : 'none';\n",
              "\n",
              "        async function convertToInteractive(key) {\n",
              "          const element = document.querySelector('#df-b4bfe67d-099c-443e-8df9-aadab6ced7e8');\n",
              "          const dataTable =\n",
              "            await google.colab.kernel.invokeFunction('convertToInteractive',\n",
              "                                                     [key], {});\n",
              "          if (!dataTable) return;\n",
              "\n",
              "          const docLinkHtml = 'Like what you see? Visit the ' +\n",
              "            '<a target=\"_blank\" href=https://colab.research.google.com/notebooks/data_table.ipynb>data table notebook</a>'\n",
              "            + ' to learn more about interactive tables.';\n",
              "          element.innerHTML = '';\n",
              "          dataTable['output_type'] = 'display_data';\n",
              "          await google.colab.output.renderOutput(dataTable, element);\n",
              "          const docLink = document.createElement('div');\n",
              "          docLink.innerHTML = docLinkHtml;\n",
              "          element.appendChild(docLink);\n",
              "        }\n",
              "      </script>\n",
              "    </div>\n",
              "  </div>\n",
              "  "
            ]
          },
          "metadata": {},
          "execution_count": 84
        }
      ]
    },
    {
      "cell_type": "code",
      "source": [
        "plt.figure(figsize=(22, 8))\n",
        "plt.subplots_adjust(hspace=0.25)\n",
        "plt.suptitle(\"Energy Demand\", fontsize=18, y=0.95)\n",
        "col_list = ['hour', 'day', 'month', 'year']\n",
        "\n",
        "for n, col in enumerate(col_list):\n",
        "\n",
        "    # add a new subplot iteratively\n",
        "    ax = plt.subplot(2, 2, n + 1)\n",
        "\n",
        "    # groupby on hr/day/month/year and plot vs energy on a new subplot axis\n",
        "    data.groupby(col)['energy'].mean().plot(ax = ax)\n",
        "\n",
        "    # chart formatting\n",
        "    ax.set_title(col.upper())    \n",
        "    ax.set_xlabel(\"\")"
      ],
      "metadata": {
        "colab": {
          "base_uri": "https://localhost:8080/",
          "height": 523
        },
        "id": "V9IAAfe0JXrK",
        "outputId": "7f259df1-a4af-4350-85c5-07de8a217354"
      },
      "execution_count": null,
      "outputs": [
        {
          "output_type": "display_data",
          "data": {
            "text/plain": [
              "<Figure size 1584x576 with 4 Axes>"
            ],
            "image/png": "[encoded data removed]"
          },
          "metadata": {
            "needs_background": "light"
          }
        }
      ]
    },
    {
      "cell_type": "markdown",
      "source": [
        "### Insights\n",
        "- Demand is low during night and fairly constant throughout the day\n",
        "- Weekends (day 5-6) hav decreasing energy demand\n",
        "- The energy demand throughout the year is cyclic in nature having its peak in the month of June-July\n",
        "- The overall trend of energy demand is increasing over the years."
      ],
      "metadata": {
        "id": "04SQZrpd4UyI"
      }
    },
    {
      "cell_type": "markdown",
      "source": [
        "## 3 Outlier detection"
      ],
      "metadata": {
        "id": "KlMntokQPxKu"
      }
    },
    {
      "cell_type": "code",
      "source": [
        "plt.figure(figsize = (22,3))\n",
        "ax =sns.boxplot(data = data['energy'], orient=\"h\")\n",
        "ax.set_title('Boxplots for Outlier Detection', fontsize = 18)\n",
        "plt.show()"
      ],
      "metadata": {
        "colab": {
          "base_uri": "https://localhost:8080/",
          "height": 231
        },
        "id": "TSGZjrx_NY95",
        "outputId": "c090bedc-6e5f-4274-86b0-14e53afeb35f"
      },
      "execution_count": null,
      "outputs": [
        {
          "output_type": "display_data",
          "data": {
            "text/plain": [
              "<Figure size 1584x216 with 1 Axes>"
            ],
            "image/png": "[encoded data removed]"
          },
          "metadata": {
            "needs_background": "light"
          }
        }
      ]
    },
    {
      "cell_type": "code",
      "source": [
        "data[data['energy']>2650]['year'].value_counts().sort_index().plot(kind = 'barh')"
      ],
      "metadata": {
        "colab": {
          "base_uri": "https://localhost:8080/",
          "height": 282
        },
        "id": "3E8FbExLVy8Q",
        "outputId": "283d0665-65fe-4568-cc35-76ddfce6b996"
      },
      "execution_count": null,
      "outputs": [
        {
          "output_type": "execute_result",
          "data": {
            "text/plain": [
              "<matplotlib.axes._subplots.AxesSubplot at 0x7f13a47a1c50>"
            ]
          },
          "metadata": {},
          "execution_count": 87
        },
        {
          "output_type": "display_data",
          "data": {
            "text/plain": [
              "<Figure size 432x288 with 1 Axes>"
            ],
            "image/png": "[encoded data removed]"
          },
          "metadata": {
            "needs_background": "light"
          }
        }
      ]
    },
    {
      "cell_type": "markdown",
      "source": [
        "### Insights\n",
        "- Even though from the Box plot it seemed there were some outliers in the data, but if we see the no. of instances wherein the demand is over ~2650 (the upper limit in box plot), only a few times, the limit is crossed.\n",
        "- These could be due to some festival seasons, cultural events, etc.\n",
        "- The count is high in the years 2017-2018 which is actually expected as over the years the demand for energy has increased.\n",
        "- We will not consider these outliers as \"Outliers\" and will not be removed."
      ],
      "metadata": {
        "id": "AYeuW_zRWDW-"
      }
    },
    {
      "cell_type": "code",
      "source": [
        "data[(data['energy']>2650) & (data['year']<2017)]['month'].value_counts().sort_index().plot(kind = 'barh')"
      ],
      "metadata": {
        "colab": {
          "base_uri": "https://localhost:8080/",
          "height": 282
        },
        "id": "gIroNXKFaqOV",
        "outputId": "3741ce3c-f2c2-4bc9-9563-34376c57a270"
      },
      "execution_count": null,
      "outputs": [
        {
          "output_type": "execute_result",
          "data": {
            "text/plain": [
              "<matplotlib.axes._subplots.AxesSubplot at 0x7f13a3fc3650>"
            ]
          },
          "metadata": {},
          "execution_count": 88
        },
        {
          "output_type": "display_data",
          "data": {
            "text/plain": [
              "<Figure size 432x288 with 1 Axes>"
            ],
            "image/png": "[encoded data removed]"
          },
          "metadata": {
            "needs_background": "light"
          }
        }
      ]
    },
    {
      "cell_type": "markdown",
      "source": [
        "- As expected for years prior to 2017, the major energy demand is during the Holiday month of December."
      ],
      "metadata": {
        "id": "_3U13YLMbBJM"
      }
    },
    {
      "cell_type": "markdown",
      "source": [
        "## 4 Energy vs time"
      ],
      "metadata": {
        "id": "Xi19xEWaqgIk"
      }
    },
    {
      "cell_type": "code",
      "source": [
        "data.set_index('datetime')['energy'].plot(figsize = (22,5));"
      ],
      "metadata": {
        "colab": {
          "base_uri": "https://localhost:8080/",
          "height": 334
        },
        "id": "4ZkU8gCGqd6d",
        "outputId": "9b9e8f99-c881-4076-cbf7-dd35862895cd"
      },
      "execution_count": null,
      "outputs": [
        {
          "output_type": "display_data",
          "data": {
            "text/plain": [
              "<Figure size 1584x360 with 1 Axes>"
            ],
            "image/png": "[encoded data removed]"
          },
          "metadata": {
            "needs_background": "light"
          }
        }
      ]
    },
    {
      "cell_type": "markdown",
      "source": [
        "# 3.0 Modeling using Prophet"
      ],
      "metadata": {
        "id": "HK74mvDKtPH2"
      }
    },
    {
      "cell_type": "code",
      "source": [
        "from prophet import Prophet\n",
        "from prophet.serialize import model_to_json, model_from_json\n",
        "from prophet.diagnostics import cross_validation, performance_metrics\n",
        "\n",
        "\n",
        "from sklearn.metrics import mean_squared_error\n",
        "from sklearn.model_selection import ParameterGrid"
      ],
      "metadata": {
        "id": "9AbHHKBUqeET"
      },
      "execution_count": null,
      "outputs": []
    },
    {
      "cell_type": "code",
      "source": [
        "prophet_data = data[['datetime', 'energy']]\n",
        "prophet_data.columns = ['ds', 'y']"
      ],
      "metadata": {
        "id": "2yRif6batUjW"
      },
      "execution_count": null,
      "outputs": []
    },
    {
      "cell_type": "markdown",
      "source": [
        "## 1 Base Model"
      ],
      "metadata": {
        "id": "v-YtE4Vawx48"
      }
    },
    {
      "cell_type": "code",
      "execution_count": null,
      "metadata": {
        "id": "b122ed8d"
      },
      "outputs": [],
      "source": [
        "m = Prophet()"
      ]
    },
    {
      "cell_type": "code",
      "execution_count": null,
      "metadata": {
        "id": "cb1fbe50",
        "outputId": "93d56479-9abf-423c-b67c-29c704c01215",
        "colab": {
          "base_uri": "https://localhost:8080/"
        }
      },
      "outputs": [
        {
          "output_type": "stream",
          "name": "stderr",
          "text": [
            "DEBUG:cmdstanpy:input tempfile: /tmp/tmpwcqclzpl/swucbsfx.json\n",
            "DEBUG:cmdstanpy:input tempfile: /tmp/tmpwcqclzpl/k3kgi53x.json\n",
            "DEBUG:cmdstanpy:idx 0\n",
            "DEBUG:cmdstanpy:running CmdStan, num_threads: None\n",
            "DEBUG:cmdstanpy:CmdStan args: ['/usr/local/lib/python3.7/dist-packages/prophet/stan_model/prophet_model.bin', 'random', 'seed=99638', 'data', 'file=/tmp/tmpwcqclzpl/swucbsfx.json', 'init=/tmp/tmpwcqclzpl/k3kgi53x.json', 'output', 'file=/tmp/tmpwcqclzpl/prophet_modelntqb5c4c/prophet_model-20221120051129.csv', 'method=optimize', 'algorithm=lbfgs', 'iter=10000']\n",
            "05:11:29 - cmdstanpy - INFO - Chain [1] start processing\n",
            "INFO:cmdstanpy:Chain [1] start processing\n",
            "05:14:12 - cmdstanpy - INFO - Chain [1] done processing\n",
            "INFO:cmdstanpy:Chain [1] done processing\n"
          ]
        },
        {
          "output_type": "execute_result",
          "data": {
            "text/plain": [
              "<prophet.forecaster.Prophet at 0x7f13a2debb10>"
            ]
          },
          "metadata": {},
          "execution_count": 93
        }
      ],
      "source": [
        "m.fit(prophet_data)"
      ]
    },
    {
      "cell_type": "code",
      "execution_count": null,
      "metadata": {
        "id": "e5e17753"
      },
      "outputs": [],
      "source": [
        "with open('model_01.json', 'w') as fout:\n",
        "    fout.write(model_to_json(m))  # Save model\n",
        "\n",
        "\n",
        "with open('model_01.json', 'r') as fin:\n",
        "    m = model_from_json(fin.read())  # Load model"
      ]
    },
    {
      "cell_type": "code",
      "source": [
        "print('no. of hours in 3 years is {}'.format(24*365*3))"
      ],
      "metadata": {
        "colab": {
          "base_uri": "https://localhost:8080/"
        },
        "id": "_ZX5IVbpumgo",
        "outputId": "d62bb0f6-bb9e-48c7-c8c8-b338bded57f3"
      },
      "execution_count": null,
      "outputs": [
        {
          "output_type": "stream",
          "name": "stdout",
          "text": [
            "no. of hours in 3 years is 26280\n"
          ]
        }
      ]
    },
    {
      "cell_type": "code",
      "execution_count": null,
      "metadata": {
        "id": "35e8cdd7",
        "colab": {
          "base_uri": "https://localhost:8080/",
          "height": 424
        },
        "outputId": "827b9f52-284d-473e-eefb-ba7c72d06ae1"
      },
      "outputs": [
        {
          "output_type": "execute_result",
          "data": {
            "text/plain": [
              "                        ds\n",
              "0      2008-03-01 00:00:00\n",
              "1      2008-03-01 01:00:00\n",
              "2      2008-03-01 02:00:00\n",
              "3      2008-03-01 03:00:00\n",
              "4      2008-03-01 04:00:00\n",
              "...                    ...\n",
              "121267 2021-12-30 19:00:00\n",
              "121268 2021-12-30 20:00:00\n",
              "121269 2021-12-30 21:00:00\n",
              "121270 2021-12-30 22:00:00\n",
              "121271 2021-12-30 23:00:00\n",
              "\n",
              "[121272 rows x 1 columns]"
            ],
            "text/html": [
              "\n",
              "  <div id=\"df-b89be9cb-4df6-439f-a81d-989f8cfa500c\">\n",
              "    <div class=\"colab-df-container\">\n",
              "      <div>\n",
              "<style scoped>\n",
              "    .dataframe tbody tr th:only-of-type {\n",
              "        vertical-align: middle;\n",
              "    }\n",
              "\n",
              "    .dataframe tbody tr th {\n",
              "        vertical-align: top;\n",
              "    }\n",
              "\n",
              "    .dataframe thead th {\n",
              "        text-align: right;\n",
              "    }\n",
              "</style>\n",
              "<table border=\"1\" class=\"dataframe\">\n",
              "  <thead>\n",
              "    <tr style=\"text-align: right;\">\n",
              "      <th></th>\n",
              "      <th>ds</th>\n",
              "    </tr>\n",
              "  </thead>\n",
              "  <tbody>\n",
              "    <tr>\n",
              "      <th>0</th>\n",
              "      <td>2008-03-01 00:00:00</td>\n",
              "    </tr>\n",
              "    <tr>\n",
              "      <th>1</th>\n",
              "      <td>2008-03-01 01:00:00</td>\n",
              "    </tr>\n",
              "    <tr>\n",
              "      <th>2</th>\n",
              "      <td>2008-03-01 02:00:00</td>\n",
              "    </tr>\n",
              "    <tr>\n",
              "      <th>3</th>\n",
              "      <td>2008-03-01 03:00:00</td>\n",
              "    </tr>\n",
              "    <tr>\n",
              "      <th>4</th>\n",
              "      <td>2008-03-01 04:00:00</td>\n",
              "    </tr>\n",
              "    <tr>\n",
              "      <th>...</th>\n",
              "      <td>...</td>\n",
              "    </tr>\n",
              "    <tr>\n",
              "      <th>121267</th>\n",
              "      <td>2021-12-30 19:00:00</td>\n",
              "    </tr>\n",
              "    <tr>\n",
              "      <th>121268</th>\n",
              "      <td>2021-12-30 20:00:00</td>\n",
              "    </tr>\n",
              "    <tr>\n",
              "      <th>121269</th>\n",
              "      <td>2021-12-30 21:00:00</td>\n",
              "    </tr>\n",
              "    <tr>\n",
              "      <th>121270</th>\n",
              "      <td>2021-12-30 22:00:00</td>\n",
              "    </tr>\n",
              "    <tr>\n",
              "      <th>121271</th>\n",
              "      <td>2021-12-30 23:00:00</td>\n",
              "    </tr>\n",
              "  </tbody>\n",
              "</table>\n",
              "<p>121272 rows × 1 columns</p>\n",
              "</div>\n",
              "      <button class=\"colab-df-convert\" onclick=\"convertToInteractive('df-b89be9cb-4df6-439f-a81d-989f8cfa500c')\"\n",
              "              title=\"Convert this dataframe to an interactive table.\"\n",
              "              style=\"display:none;\">\n",
              "        \n",
              "  <svg xmlns=\"http://www.w3.org/2000/svg\" height=\"24px\"viewBox=\"0 0 24 24\"\n",
              "       width=\"24px\">\n",
              "    <path d=\"M0 0h24v24H0V0z\" fill=\"none\"/>\n",
              "    <path d=\"M18.56 5.44l.94 2.06.94-2.06 2.06-.94-2.06-.94-.94-2.06-.94 2.06-2.06.94zm-11 1L8.5 8.5l.94-2.06 2.06-.94-2.06-.94L8.5 2.5l-.94 2.06-2.06.94zm10 10l.94 2.06.94-2.06 2.06-.94-2.06-.94-.94-2.06-.94 2.06-2.06.94z\"/><path d=\"M17.41 7.96l-1.37-1.37c-.4-.4-.92-.59-1.43-.59-.52 0-1.04.2-1.43.59L10.3 9.45l-7.72 7.72c-.78.78-.78 2.05 0 2.83L4 21.41c.39.39.9.59 1.41.59.51 0 1.02-.2 1.41-.59l7.78-7.78 2.81-2.81c.8-.78.8-2.07 0-2.86zM5.41 20L4 18.59l7.72-7.72 1.47 1.35L5.41 20z\"/>\n",
              "  </svg>\n",
              "      </button>\n",
              "      \n",
              "  <style>\n",
              "    .colab-df-container {\n",
              "      display:flex;\n",
              "      flex-wrap:wrap;\n",
              "      gap: 12px;\n",
              "    }\n",
              "\n",
              "    .colab-df-convert {\n",
              "      background-color: #E8F0FE;\n",
              "      border: none;\n",
              "      border-radius: 50%;\n",
              "      cursor: pointer;\n",
              "      display: none;\n",
              "      fill: #1967D2;\n",
              "      height: 32px;\n",
              "      padding: 0 0 0 0;\n",
              "      width: 32px;\n",
              "    }\n",
              "\n",
              "    .colab-df-convert:hover {\n",
              "      background-color: #E2EBFA;\n",
              "      box-shadow: 0px 1px 2px rgba(60, 64, 67, 0.3), 0px 1px 3px 1px rgba(60, 64, 67, 0.15);\n",
              "      fill: #174EA6;\n",
              "    }\n",
              "\n",
              "    [theme=dark] .colab-df-convert {\n",
              "      background-color: #3B4455;\n",
              "      fill: #D2E3FC;\n",
              "    }\n",
              "\n",
              "    [theme=dark] .colab-df-convert:hover {\n",
              "      background-color: #434B5C;\n",
              "      box-shadow: 0px 1px 3px 1px rgba(0, 0, 0, 0.15);\n",
              "      filter: drop-shadow(0px 1px 2px rgba(0, 0, 0, 0.3));\n",
              "      fill: #FFFFFF;\n",
              "    }\n",
              "  </style>\n",
              "\n",
              "      <script>\n",
              "        const buttonEl =\n",
              "          document.querySelector('#df-b89be9cb-4df6-439f-a81d-989f8cfa500c button.colab-df-convert');\n",
              "        buttonEl.style.display =\n",
              "          google.colab.kernel.accessAllowed ? 'block' : 'none';\n",
              "\n",
              "        async function convertToInteractive(key) {\n",
              "          const element = document.querySelector('#df-b89be9cb-4df6-439f-a81d-989f8cfa500c');\n",
              "          const dataTable =\n",
              "            await google.colab.kernel.invokeFunction('convertToInteractive',\n",
              "                                                     [key], {});\n",
              "          if (!dataTable) return;\n",
              "\n",
              "          const docLinkHtml = 'Like what you see? Visit the ' +\n",
              "            '<a target=\"_blank\" href=https://colab.research.google.com/notebooks/data_table.ipynb>data table notebook</a>'\n",
              "            + ' to learn more about interactive tables.';\n",
              "          element.innerHTML = '';\n",
              "          dataTable['output_type'] = 'display_data';\n",
              "          await google.colab.output.renderOutput(dataTable, element);\n",
              "          const docLink = document.createElement('div');\n",
              "          docLink.innerHTML = docLinkHtml;\n",
              "          element.appendChild(docLink);\n",
              "        }\n",
              "      </script>\n",
              "    </div>\n",
              "  </div>\n",
              "  "
            ]
          },
          "metadata": {},
          "execution_count": 96
        }
      ],
      "source": [
        "future = m.make_future_dataframe(periods=26280, freq='H')\n",
        "future"
      ]
    },
    {
      "cell_type": "code",
      "execution_count": null,
      "metadata": {
        "id": "ce00b24d"
      },
      "outputs": [],
      "source": [
        "forecast = m.predict(future)"
      ]
    },
    {
      "cell_type": "code",
      "execution_count": null,
      "metadata": {
        "id": "920870ba",
        "colab": {
          "base_uri": "https://localhost:8080/",
          "height": 473
        },
        "outputId": "0000bc4d-59e5-4818-fa05-d60028b40804"
      },
      "outputs": [
        {
          "output_type": "execute_result",
          "data": {
            "text/plain": [
              "                   ds        trend   yhat_lower   yhat_upper  trend_lower  \\\n",
              "0 2008-03-01 00:00:00  1468.616317  1012.029240  1458.810559  1468.616317   \n",
              "1 2008-03-01 01:00:00  1468.549799   921.246809  1364.716449  1468.549799   \n",
              "2 2008-03-01 02:00:00  1468.483281   841.769151  1311.433445  1468.483281   \n",
              "3 2008-03-01 03:00:00  1468.416762   800.481064  1278.210162  1468.416762   \n",
              "4 2008-03-01 04:00:00  1468.350244   805.207591  1256.519428  1468.350244   \n",
              "\n",
              "   trend_upper  additive_terms  additive_terms_lower  additive_terms_upper  \\\n",
              "0  1468.616317     -244.227616           -244.227616           -244.227616   \n",
              "1  1468.549799     -329.351195           -329.351195           -329.351195   \n",
              "2  1468.483281     -394.544928           -394.544928           -394.544928   \n",
              "3  1468.416762     -432.974738           -432.974738           -432.974738   \n",
              "4  1468.350244     -439.357952           -439.357952           -439.357952   \n",
              "\n",
              "        daily  ...     weekly  weekly_lower  weekly_upper      yearly  \\\n",
              "0  -78.577788  ...  54.331651     54.331651     54.331651 -219.981480   \n",
              "1 -162.453867  ...  53.201363     53.201363     53.201363 -220.098692   \n",
              "2 -226.309688  ...  51.980595     51.980595     51.980595 -220.215835   \n",
              "3 -263.301061  ...  50.659231     50.659231     50.659231 -220.332908   \n",
              "4 -268.134316  ...  49.226273     49.226273     49.226273 -220.449909   \n",
              "\n",
              "   yearly_lower  yearly_upper  multiplicative_terms  \\\n",
              "0   -219.981480   -219.981480                   0.0   \n",
              "1   -220.098692   -220.098692                   0.0   \n",
              "2   -220.215835   -220.215835                   0.0   \n",
              "3   -220.332908   -220.332908                   0.0   \n",
              "4   -220.449909   -220.449909                   0.0   \n",
              "\n",
              "   multiplicative_terms_lower  multiplicative_terms_upper         yhat  \n",
              "0                         0.0                         0.0  1224.388701  \n",
              "1                         0.0                         0.0  1139.198604  \n",
              "2                         0.0                         0.0  1073.938353  \n",
              "3                         0.0                         0.0  1035.442024  \n",
              "4                         0.0                         0.0  1028.992293  \n",
              "\n",
              "[5 rows x 22 columns]"
            ],
            "text/html": [
              "\n",
              "  <div id=\"df-cf523282-bdff-4ad8-b308-a784189628f8\">\n",
              "    <div class=\"colab-df-container\">\n",
              "      <div>\n",
              "<style scoped>\n",
              "    .dataframe tbody tr th:only-of-type {\n",
              "        vertical-align: middle;\n",
              "    }\n",
              "\n",
              "    .dataframe tbody tr th {\n",
              "        vertical-align: top;\n",
              "    }\n",
              "\n",
              "    .dataframe thead th {\n",
              "        text-align: right;\n",
              "    }\n",
              "</style>\n",
              "<table border=\"1\" class=\"dataframe\">\n",
              "  <thead>\n",
              "    <tr style=\"text-align: right;\">\n",
              "      <th></th>\n",
              "      <th>ds</th>\n",
              "      <th>trend</th>\n",
              "      <th>yhat_lower</th>\n",
              "      <th>yhat_upper</th>\n",
              "      <th>trend_lower</th>\n",
              "      <th>trend_upper</th>\n",
              "      <th>additive_terms</th>\n",
              "      <th>additive_terms_lower</th>\n",
              "      <th>additive_terms_upper</th>\n",
              "      <th>daily</th>\n",
              "      <th>...</th>\n",
              "      <th>weekly</th>\n",
              "      <th>weekly_lower</th>\n",
              "      <th>weekly_upper</th>\n",
              "      <th>yearly</th>\n",
              "      <th>yearly_lower</th>\n",
              "      <th>yearly_upper</th>\n",
              "      <th>multiplicative_terms</th>\n",
              "      <th>multiplicative_terms_lower</th>\n",
              "      <th>multiplicative_terms_upper</th>\n",
              "      <th>yhat</th>\n",
              "    </tr>\n",
              "  </thead>\n",
              "  <tbody>\n",
              "    <tr>\n",
              "      <th>0</th>\n",
              "      <td>2008-03-01 00:00:00</td>\n",
              "      <td>1468.616317</td>\n",
              "      <td>1012.029240</td>\n",
              "      <td>1458.810559</td>\n",
              "      <td>1468.616317</td>\n",
              "      <td>1468.616317</td>\n",
              "      <td>-244.227616</td>\n",
              "      <td>-244.227616</td>\n",
              "      <td>-244.227616</td>\n",
              "      <td>-78.577788</td>\n",
              "      <td>...</td>\n",
              "      <td>54.331651</td>\n",
              "      <td>54.331651</td>\n",
              "      <td>54.331651</td>\n",
              "      <td>-219.981480</td>\n",
              "      <td>-219.981480</td>\n",
              "      <td>-219.981480</td>\n",
              "      <td>0.0</td>\n",
              "      <td>0.0</td>\n",
              "      <td>0.0</td>\n",
              "      <td>1224.388701</td>\n",
              "    </tr>\n",
              "    <tr>\n",
              "      <th>1</th>\n",
              "      <td>2008-03-01 01:00:00</td>\n",
              "      <td>1468.549799</td>\n",
              "      <td>921.246809</td>\n",
              "      <td>1364.716449</td>\n",
              "      <td>1468.549799</td>\n",
              "      <td>1468.549799</td>\n",
              "      <td>-329.351195</td>\n",
              "      <td>-329.351195</td>\n",
              "      <td>-329.351195</td>\n",
              "      <td>-162.453867</td>\n",
              "      <td>...</td>\n",
              "      <td>53.201363</td>\n",
              "      <td>53.201363</td>\n",
              "      <td>53.201363</td>\n",
              "      <td>-220.098692</td>\n",
              "      <td>-220.098692</td>\n",
              "      <td>-220.098692</td>\n",
              "      <td>0.0</td>\n",
              "      <td>0.0</td>\n",
              "      <td>0.0</td>\n",
              "      <td>1139.198604</td>\n",
              "    </tr>\n",
              "    <tr>\n",
              "      <th>2</th>\n",
              "      <td>2008-03-01 02:00:00</td>\n",
              "      <td>1468.483281</td>\n",
              "      <td>841.769151</td>\n",
              "      <td>1311.433445</td>\n",
              "      <td>1468.483281</td>\n",
              "      <td>1468.483281</td>\n",
              "      <td>-394.544928</td>\n",
              "      <td>-394.544928</td>\n",
              "      <td>-394.544928</td>\n",
              "      <td>-226.309688</td>\n",
              "      <td>...</td>\n",
              "      <td>51.980595</td>\n",
              "      <td>51.980595</td>\n",
              "      <td>51.980595</td>\n",
              "      <td>-220.215835</td>\n",
              "      <td>-220.215835</td>\n",
              "      <td>-220.215835</td>\n",
              "      <td>0.0</td>\n",
              "      <td>0.0</td>\n",
              "      <td>0.0</td>\n",
              "      <td>1073.938353</td>\n",
              "    </tr>\n",
              "    <tr>\n",
              "      <th>3</th>\n",
              "      <td>2008-03-01 03:00:00</td>\n",
              "      <td>1468.416762</td>\n",
              "      <td>800.481064</td>\n",
              "      <td>1278.210162</td>\n",
              "      <td>1468.416762</td>\n",
              "      <td>1468.416762</td>\n",
              "      <td>-432.974738</td>\n",
              "      <td>-432.974738</td>\n",
              "      <td>-432.974738</td>\n",
              "      <td>-263.301061</td>\n",
              "      <td>...</td>\n",
              "      <td>50.659231</td>\n",
              "      <td>50.659231</td>\n",
              "      <td>50.659231</td>\n",
              "      <td>-220.332908</td>\n",
              "      <td>-220.332908</td>\n",
              "      <td>-220.332908</td>\n",
              "      <td>0.0</td>\n",
              "      <td>0.0</td>\n",
              "      <td>0.0</td>\n",
              "      <td>1035.442024</td>\n",
              "    </tr>\n",
              "    <tr>\n",
              "      <th>4</th>\n",
              "      <td>2008-03-01 04:00:00</td>\n",
              "      <td>1468.350244</td>\n",
              "      <td>805.207591</td>\n",
              "      <td>1256.519428</td>\n",
              "      <td>1468.350244</td>\n",
              "      <td>1468.350244</td>\n",
              "      <td>-439.357952</td>\n",
              "      <td>-439.357952</td>\n",
              "      <td>-439.357952</td>\n",
              "      <td>-268.134316</td>\n",
              "      <td>...</td>\n",
              "      <td>49.226273</td>\n",
              "      <td>49.226273</td>\n",
              "      <td>49.226273</td>\n",
              "      <td>-220.449909</td>\n",
              "      <td>-220.449909</td>\n",
              "      <td>-220.449909</td>\n",
              "      <td>0.0</td>\n",
              "      <td>0.0</td>\n",
              "      <td>0.0</td>\n",
              "      <td>1028.992293</td>\n",
              "    </tr>\n",
              "  </tbody>\n",
              "</table>\n",
              "<p>5 rows × 22 columns</p>\n",
              "</div>\n",
              "      <button class=\"colab-df-convert\" onclick=\"convertToInteractive('df-cf523282-bdff-4ad8-b308-a784189628f8')\"\n",
              "              title=\"Convert this dataframe to an interactive table.\"\n",
              "              style=\"display:none;\">\n",
              "        \n",
              "  <svg xmlns=\"http://www.w3.org/2000/svg\" height=\"24px\"viewBox=\"0 0 24 24\"\n",
              "       width=\"24px\">\n",
              "    <path d=\"M0 0h24v24H0V0z\" fill=\"none\"/>\n",
              "    <path d=\"M18.56 5.44l.94 2.06.94-2.06 2.06-.94-2.06-.94-.94-2.06-.94 2.06-2.06.94zm-11 1L8.5 8.5l.94-2.06 2.06-.94-2.06-.94L8.5 2.5l-.94 2.06-2.06.94zm10 10l.94 2.06.94-2.06 2.06-.94-2.06-.94-.94-2.06-.94 2.06-2.06.94z\"/><path d=\"M17.41 7.96l-1.37-1.37c-.4-.4-.92-.59-1.43-.59-.52 0-1.04.2-1.43.59L10.3 9.45l-7.72 7.72c-.78.78-.78 2.05 0 2.83L4 21.41c.39.39.9.59 1.41.59.51 0 1.02-.2 1.41-.59l7.78-7.78 2.81-2.81c.8-.78.8-2.07 0-2.86zM5.41 20L4 18.59l7.72-7.72 1.47 1.35L5.41 20z\"/>\n",
              "  </svg>\n",
              "      </button>\n",
              "      \n",
              "  <style>\n",
              "    .colab-df-container {\n",
              "      display:flex;\n",
              "      flex-wrap:wrap;\n",
              "      gap: 12px;\n",
              "    }\n",
              "\n",
              "    .colab-df-convert {\n",
              "      background-color: #E8F0FE;\n",
              "      border: none;\n",
              "      border-radius: 50%;\n",
              "      cursor: pointer;\n",
              "      display: none;\n",
              "      fill: #1967D2;\n",
              "      height: 32px;\n",
              "      padding: 0 0 0 0;\n",
              "      width: 32px;\n",
              "    }\n",
              "\n",
              "    .colab-df-convert:hover {\n",
              "      background-color: #E2EBFA;\n",
              "      box-shadow: 0px 1px 2px rgba(60, 64, 67, 0.3), 0px 1px 3px 1px rgba(60, 64, 67, 0.15);\n",
              "      fill: #174EA6;\n",
              "    }\n",
              "\n",
              "    [theme=dark] .colab-df-convert {\n",
              "      background-color: #3B4455;\n",
              "      fill: #D2E3FC;\n",
              "    }\n",
              "\n",
              "    [theme=dark] .colab-df-convert:hover {\n",
              "      background-color: #434B5C;\n",
              "      box-shadow: 0px 1px 3px 1px rgba(0, 0, 0, 0.15);\n",
              "      filter: drop-shadow(0px 1px 2px rgba(0, 0, 0, 0.3));\n",
              "      fill: #FFFFFF;\n",
              "    }\n",
              "  </style>\n",
              "\n",
              "      <script>\n",
              "        const buttonEl =\n",
              "          document.querySelector('#df-cf523282-bdff-4ad8-b308-a784189628f8 button.colab-df-convert');\n",
              "        buttonEl.style.display =\n",
              "          google.colab.kernel.accessAllowed ? 'block' : 'none';\n",
              "\n",
              "        async function convertToInteractive(key) {\n",
              "          const element = document.querySelector('#df-cf523282-bdff-4ad8-b308-a784189628f8');\n",
              "          const dataTable =\n",
              "            await google.colab.kernel.invokeFunction('convertToInteractive',\n",
              "                                                     [key], {});\n",
              "          if (!dataTable) return;\n",
              "\n",
              "          const docLinkHtml = 'Like what you see? Visit the ' +\n",
              "            '<a target=\"_blank\" href=https://colab.research.google.com/notebooks/data_table.ipynb>data table notebook</a>'\n",
              "            + ' to learn more about interactive tables.';\n",
              "          element.innerHTML = '';\n",
              "          dataTable['output_type'] = 'display_data';\n",
              "          await google.colab.output.renderOutput(dataTable, element);\n",
              "          const docLink = document.createElement('div');\n",
              "          docLink.innerHTML = docLinkHtml;\n",
              "          element.appendChild(docLink);\n",
              "        }\n",
              "      </script>\n",
              "    </div>\n",
              "  </div>\n",
              "  "
            ]
          },
          "metadata": {},
          "execution_count": 98
        }
      ],
      "source": [
        "forecast.head()"
      ]
    },
    {
      "cell_type": "markdown",
      "source": [
        "### 1 Peformance"
      ],
      "metadata": {
        "id": "tE9lVBpqxOLv"
      }
    },
    {
      "cell_type": "code",
      "source": [
        "se = np.square(forecast.loc[:94992, 'yhat'] - data['energy'])\n",
        "mse = np.mean(se)\n",
        "rmse = np.sqrt(mse)"
      ],
      "metadata": {
        "id": "H958Vi3ltUr9"
      },
      "execution_count": null,
      "outputs": []
    },
    {
      "cell_type": "code",
      "source": [
        "print(\"the RMSE of base model is {}\".format(round(rmse,2)))"
      ],
      "metadata": {
        "colab": {
          "base_uri": "https://localhost:8080/"
        },
        "id": "vvNpT13lvstF",
        "outputId": "0453680d-9a7f-4967-8607-0653ac215e17"
      },
      "execution_count": null,
      "outputs": [
        {
          "output_type": "stream",
          "name": "stdout",
          "text": [
            "the RMSE of base model is 173.69\n"
          ]
        }
      ]
    },
    {
      "cell_type": "markdown",
      "source": [
        "### 2 Plotting the results"
      ],
      "metadata": {
        "id": "XS6iWl_bxgrV"
      }
    },
    {
      "cell_type": "code",
      "source": [
        "fig1 = m.plot(forecast)"
      ],
      "metadata": {
        "id": "q-TRteamwK27",
        "colab": {
          "base_uri": "https://localhost:8080/",
          "height": 441
        },
        "outputId": "f826de07-5854-44ab-c674-de67b9f7b92b"
      },
      "execution_count": null,
      "outputs": [
        {
          "output_type": "display_data",
          "data": {
            "text/plain": [
              "<Figure size 720x432 with 1 Axes>"
            ],
            "image/png": "[encoded data removed]"
          },
          "metadata": {}
        }
      ]
    },
    {
      "cell_type": "code",
      "source": [
        "fig2 = m.plot_components(forecast)"
      ],
      "metadata": {
        "id": "i5NXukQqwcch",
        "colab": {
          "base_uri": "https://localhost:8080/",
          "height": 873
        },
        "outputId": "f2ea2177-30b4-45c2-8215-4d72bc1fd7ac"
      },
      "execution_count": null,
      "outputs": [
        {
          "output_type": "display_data",
          "data": {
            "text/plain": [
              "<Figure size 648x864 with 4 Axes>"
            ],
            "image/png": "[encoded data removed]"
          },
          "metadata": {}
        }
      ]
    },
    {
      "cell_type": "code",
      "source": [],
      "metadata": {
        "id": "3F-dxQ8PcmYe"
      },
      "execution_count": null,
      "outputs": []
    },
    {
      "cell_type": "markdown",
      "source": [
        "## 2 Hyperparameter Tuning"
      ],
      "metadata": {
        "id": "doBetGbx_ahu"
      }
    },
    {
      "cell_type": "code",
      "source": [
        "from sklearn.model_selection import ParameterGrid\n",
        "params_grid = {'seasonality_mode':('multiplicative','additive'),\n",
        "               'changepoint_prior_scale':[0.1,0.5, 0.01,0.001],              \n",
        "              'n_changepoints' : [25, 100, 150]}\n",
        "grid = ParameterGrid(params_grid)"
      ],
      "metadata": {
        "id": "IXqD8wsc85sX"
      },
      "execution_count": null,
      "outputs": []
    },
    {
      "cell_type": "code",
      "source": [
        "\n",
        "model_parameters = pd.DataFrame(columns = ['RMSE','Parameters'])\n",
        "for p in grid:\n",
        "    test = pd.DataFrame()\n",
        "    print(p)    \n",
        "    np.random.seed(42)\n",
        "    m =Prophet(changepoint_prior_scale = p['changepoint_prior_scale'],                         \n",
        "                         n_changepoints = p['n_changepoints'],\n",
        "                         seasonality_mode = p['seasonality_mode'],\n",
        "                         weekly_seasonality=True,\n",
        "                         daily_seasonality = True,\n",
        "                         yearly_seasonality = True,                          \n",
        "                         interval_width=0.95)    \n",
        "    m.fit(prophet_data);\n",
        "\n",
        "    train_forecast = m.make_future_dataframe(periods=26280, freq='H');\n",
        "    train_forecast = m.predict(train_forecast);    \n",
        "    test=train_forecast[['ds','yhat']]\n",
        "\n",
        "    Actual = data.iloc[:data.shape[0], 2:]\n",
        "    rmse = np.sqrt(mean_squared_error(test.loc[:data.shape[0]-1, 'yhat'], data['energy']))\n",
        "    print('Root Mean Square Error(RMSE)------------------------------------',round(rmse,2))\n",
        "    model_parameters = model_parameters.append({'RMSE':rmse,'Parameters':p},ignore_index=True)"
      ],
      "metadata": {
        "colab": {
          "base_uri": "https://localhost:8080/"
        },
        "id": "4D44EzRL_0xH",
        "outputId": "010cee46-699b-4892-e66b-5d52cfab3074"
      },
      "execution_count": null,
      "outputs": [
        {
          "output_type": "stream",
          "name": "stdout",
          "text": [
            "{'changepoint_prior_scale': 0.1, 'n_changepoints': 25, 'seasonality_mode': 'multiplicative'}\n"
          ]
        },
        {
          "output_type": "stream",
          "name": "stderr",
          "text": [
            "DEBUG:cmdstanpy:input tempfile: /tmp/tmp6e2dotu4/7z4sjqw6.json\n",
            "DEBUG:cmdstanpy:input tempfile: /tmp/tmp6e2dotu4/awoqylqw.json\n",
            "DEBUG:cmdstanpy:idx 0\n",
            "DEBUG:cmdstanpy:running CmdStan, num_threads: None\n",
            "DEBUG:cmdstanpy:CmdStan args: ['/usr/local/lib/python3.7/dist-packages/prophet/stan_model/prophet_model.bin', 'random', 'seed=51997', 'data', 'file=/tmp/tmp6e2dotu4/7z4sjqw6.json', 'init=/tmp/tmp6e2dotu4/awoqylqw.json', 'output', 'file=/tmp/tmp6e2dotu4/prophet_model3ljehpcb/prophet_model-20221118094054.csv', 'method=optimize', 'algorithm=lbfgs', 'iter=10000']\n",
            "09:40:54 - cmdstanpy - INFO - Chain [1] start processing\n",
            "INFO:cmdstanpy:Chain [1] start processing\n",
            "09:43:49 - cmdstanpy - INFO - Chain [1] done processing\n",
            "INFO:cmdstanpy:Chain [1] done processing\n"
          ]
        },
        {
          "output_type": "stream",
          "name": "stdout",
          "text": [
            "Root Mean Square Error(RMSE)------------------------------------ 169.26880186591117\n",
            "{'changepoint_prior_scale': 0.1, 'n_changepoints': 25, 'seasonality_mode': 'additive'}\n"
          ]
        },
        {
          "output_type": "stream",
          "name": "stderr",
          "text": [
            "DEBUG:cmdstanpy:input tempfile: /tmp/tmp6e2dotu4/ux21ielj.json\n",
            "DEBUG:cmdstanpy:input tempfile: /tmp/tmp6e2dotu4/l6lvo6ck.json\n",
            "DEBUG:cmdstanpy:idx 0\n",
            "DEBUG:cmdstanpy:running CmdStan, num_threads: None\n",
            "DEBUG:cmdstanpy:CmdStan args: ['/usr/local/lib/python3.7/dist-packages/prophet/stan_model/prophet_model.bin', 'random', 'seed=97963', 'data', 'file=/tmp/tmp6e2dotu4/ux21ielj.json', 'init=/tmp/tmp6e2dotu4/l6lvo6ck.json', 'output', 'file=/tmp/tmp6e2dotu4/prophet_model_v9pbvex/prophet_model-20221118094512.csv', 'method=optimize', 'algorithm=lbfgs', 'iter=10000']\n",
            "09:45:12 - cmdstanpy - INFO - Chain [1] start processing\n",
            "INFO:cmdstanpy:Chain [1] start processing\n",
            "09:47:46 - cmdstanpy - INFO - Chain [1] done processing\n",
            "INFO:cmdstanpy:Chain [1] done processing\n"
          ]
        },
        {
          "output_type": "stream",
          "name": "stdout",
          "text": [
            "Root Mean Square Error(RMSE)------------------------------------ 173.53139573618336\n",
            "{'changepoint_prior_scale': 0.1, 'n_changepoints': 100, 'seasonality_mode': 'multiplicative'}\n"
          ]
        },
        {
          "output_type": "stream",
          "name": "stderr",
          "text": [
            "DEBUG:cmdstanpy:input tempfile: /tmp/tmp6e2dotu4/ujgmelcp.json\n",
            "DEBUG:cmdstanpy:input tempfile: /tmp/tmp6e2dotu4/cwq1ctfj.json\n",
            "DEBUG:cmdstanpy:idx 0\n",
            "DEBUG:cmdstanpy:running CmdStan, num_threads: None\n",
            "DEBUG:cmdstanpy:CmdStan args: ['/usr/local/lib/python3.7/dist-packages/prophet/stan_model/prophet_model.bin', 'random', 'seed=42876', 'data', 'file=/tmp/tmp6e2dotu4/ujgmelcp.json', 'init=/tmp/tmp6e2dotu4/cwq1ctfj.json', 'output', 'file=/tmp/tmp6e2dotu4/prophet_modelqk7yjuyq/prophet_model-20221118094901.csv', 'method=optimize', 'algorithm=lbfgs', 'iter=10000']\n",
            "09:49:01 - cmdstanpy - INFO - Chain [1] start processing\n",
            "INFO:cmdstanpy:Chain [1] start processing\n",
            "10:05:02 - cmdstanpy - INFO - Chain [1] done processing\n",
            "INFO:cmdstanpy:Chain [1] done processing\n"
          ]
        },
        {
          "output_type": "stream",
          "name": "stdout",
          "text": [
            "Root Mean Square Error(RMSE)------------------------------------ 164.55944909415166\n",
            "{'changepoint_prior_scale': 0.1, 'n_changepoints': 100, 'seasonality_mode': 'additive'}\n"
          ]
        },
        {
          "output_type": "stream",
          "name": "stderr",
          "text": [
            "DEBUG:cmdstanpy:input tempfile: /tmp/tmp6e2dotu4/orcmy7zv.json\n",
            "DEBUG:cmdstanpy:input tempfile: /tmp/tmp6e2dotu4/w047mr83.json\n",
            "DEBUG:cmdstanpy:idx 0\n",
            "DEBUG:cmdstanpy:running CmdStan, num_threads: None\n",
            "DEBUG:cmdstanpy:CmdStan args: ['/usr/local/lib/python3.7/dist-packages/prophet/stan_model/prophet_model.bin', 'random', 'seed=53332', 'data', 'file=/tmp/tmp6e2dotu4/orcmy7zv.json', 'init=/tmp/tmp6e2dotu4/w047mr83.json', 'output', 'file=/tmp/tmp6e2dotu4/prophet_modelba68wgjo/prophet_model-20221118100618.csv', 'method=optimize', 'algorithm=lbfgs', 'iter=10000']\n",
            "10:06:18 - cmdstanpy - INFO - Chain [1] start processing\n",
            "INFO:cmdstanpy:Chain [1] start processing\n",
            "10:17:24 - cmdstanpy - INFO - Chain [1] done processing\n",
            "INFO:cmdstanpy:Chain [1] done processing\n"
          ]
        },
        {
          "output_type": "stream",
          "name": "stdout",
          "text": [
            "Root Mean Square Error(RMSE)------------------------------------ 168.02320409749996\n",
            "{'changepoint_prior_scale': 0.1, 'n_changepoints': 150, 'seasonality_mode': 'multiplicative'}\n"
          ]
        },
        {
          "output_type": "stream",
          "name": "stderr",
          "text": [
            "DEBUG:cmdstanpy:input tempfile: /tmp/tmp6e2dotu4/u1ikep5e.json\n",
            "DEBUG:cmdstanpy:input tempfile: /tmp/tmp6e2dotu4/1mc23a9q.json\n",
            "DEBUG:cmdstanpy:idx 0\n",
            "DEBUG:cmdstanpy:running CmdStan, num_threads: None\n",
            "DEBUG:cmdstanpy:CmdStan args: ['/usr/local/lib/python3.7/dist-packages/prophet/stan_model/prophet_model.bin', 'random', 'seed=89414', 'data', 'file=/tmp/tmp6e2dotu4/u1ikep5e.json', 'init=/tmp/tmp6e2dotu4/1mc23a9q.json', 'output', 'file=/tmp/tmp6e2dotu4/prophet_modele9ydtx7t/prophet_model-20221118101831.csv', 'method=optimize', 'algorithm=lbfgs', 'iter=10000']\n",
            "10:18:31 - cmdstanpy - INFO - Chain [1] start processing\n",
            "INFO:cmdstanpy:Chain [1] start processing\n",
            "10:31:13 - cmdstanpy - INFO - Chain [1] done processing\n",
            "INFO:cmdstanpy:Chain [1] done processing\n"
          ]
        },
        {
          "output_type": "stream",
          "name": "stdout",
          "text": [
            "Root Mean Square Error(RMSE)------------------------------------ 164.69044168687267\n",
            "{'changepoint_prior_scale': 0.1, 'n_changepoints': 150, 'seasonality_mode': 'additive'}\n"
          ]
        },
        {
          "output_type": "stream",
          "name": "stderr",
          "text": [
            "DEBUG:cmdstanpy:input tempfile: /tmp/tmp6e2dotu4/86n1ev31.json\n",
            "DEBUG:cmdstanpy:input tempfile: /tmp/tmp6e2dotu4/wmgjryzx.json\n",
            "DEBUG:cmdstanpy:idx 0\n",
            "DEBUG:cmdstanpy:running CmdStan, num_threads: None\n",
            "DEBUG:cmdstanpy:CmdStan args: ['/usr/local/lib/python3.7/dist-packages/prophet/stan_model/prophet_model.bin', 'random', 'seed=89598', 'data', 'file=/tmp/tmp6e2dotu4/86n1ev31.json', 'init=/tmp/tmp6e2dotu4/wmgjryzx.json', 'output', 'file=/tmp/tmp6e2dotu4/prophet_modelsk9kxews/prophet_model-20221118103221.csv', 'method=optimize', 'algorithm=lbfgs', 'iter=10000']\n",
            "10:32:21 - cmdstanpy - INFO - Chain [1] start processing\n",
            "INFO:cmdstanpy:Chain [1] start processing\n",
            "10:42:40 - cmdstanpy - INFO - Chain [1] done processing\n",
            "INFO:cmdstanpy:Chain [1] done processing\n"
          ]
        },
        {
          "output_type": "stream",
          "name": "stdout",
          "text": [
            "Root Mean Square Error(RMSE)------------------------------------ 168.1530094612649\n",
            "{'changepoint_prior_scale': 0.5, 'n_changepoints': 25, 'seasonality_mode': 'multiplicative'}\n"
          ]
        },
        {
          "output_type": "stream",
          "name": "stderr",
          "text": [
            "DEBUG:cmdstanpy:input tempfile: /tmp/tmp6e2dotu4/j975_aal.json\n",
            "DEBUG:cmdstanpy:input tempfile: /tmp/tmp6e2dotu4/i3l40r32.json\n",
            "DEBUG:cmdstanpy:idx 0\n",
            "DEBUG:cmdstanpy:running CmdStan, num_threads: None\n",
            "DEBUG:cmdstanpy:CmdStan args: ['/usr/local/lib/python3.7/dist-packages/prophet/stan_model/prophet_model.bin', 'random', 'seed=68838', 'data', 'file=/tmp/tmp6e2dotu4/j975_aal.json', 'init=/tmp/tmp6e2dotu4/i3l40r32.json', 'output', 'file=/tmp/tmp6e2dotu4/prophet_modelyvrezia_/prophet_model-20221118104356.csv', 'method=optimize', 'algorithm=lbfgs', 'iter=10000']\n",
            "10:43:56 - cmdstanpy - INFO - Chain [1] start processing\n",
            "INFO:cmdstanpy:Chain [1] start processing\n",
            "10:46:13 - cmdstanpy - INFO - Chain [1] done processing\n",
            "INFO:cmdstanpy:Chain [1] done processing\n"
          ]
        },
        {
          "output_type": "stream",
          "name": "stdout",
          "text": [
            "Root Mean Square Error(RMSE)------------------------------------ 169.3024802296817\n",
            "{'changepoint_prior_scale': 0.5, 'n_changepoints': 25, 'seasonality_mode': 'additive'}\n"
          ]
        },
        {
          "output_type": "stream",
          "name": "stderr",
          "text": [
            "DEBUG:cmdstanpy:input tempfile: /tmp/tmp6e2dotu4/a2m6ipj1.json\n",
            "DEBUG:cmdstanpy:input tempfile: /tmp/tmp6e2dotu4/psi3mh65.json\n",
            "DEBUG:cmdstanpy:idx 0\n",
            "DEBUG:cmdstanpy:running CmdStan, num_threads: None\n",
            "DEBUG:cmdstanpy:CmdStan args: ['/usr/local/lib/python3.7/dist-packages/prophet/stan_model/prophet_model.bin', 'random', 'seed=91313', 'data', 'file=/tmp/tmp6e2dotu4/a2m6ipj1.json', 'init=/tmp/tmp6e2dotu4/psi3mh65.json', 'output', 'file=/tmp/tmp6e2dotu4/prophet_modelxjacoxh9/prophet_model-20221118104736.csv', 'method=optimize', 'algorithm=lbfgs', 'iter=10000']\n",
            "10:47:36 - cmdstanpy - INFO - Chain [1] start processing\n",
            "INFO:cmdstanpy:Chain [1] start processing\n",
            "10:50:04 - cmdstanpy - INFO - Chain [1] done processing\n",
            "INFO:cmdstanpy:Chain [1] done processing\n"
          ]
        },
        {
          "output_type": "stream",
          "name": "stdout",
          "text": [
            "Root Mean Square Error(RMSE)------------------------------------ 173.55158556582117\n",
            "{'changepoint_prior_scale': 0.5, 'n_changepoints': 100, 'seasonality_mode': 'multiplicative'}\n"
          ]
        },
        {
          "output_type": "stream",
          "name": "stderr",
          "text": [
            "DEBUG:cmdstanpy:input tempfile: /tmp/tmp6e2dotu4/pvspfedr.json\n",
            "DEBUG:cmdstanpy:input tempfile: /tmp/tmp6e2dotu4/bawr0h9e.json\n",
            "DEBUG:cmdstanpy:idx 0\n",
            "DEBUG:cmdstanpy:running CmdStan, num_threads: None\n",
            "DEBUG:cmdstanpy:CmdStan args: ['/usr/local/lib/python3.7/dist-packages/prophet/stan_model/prophet_model.bin', 'random', 'seed=6919', 'data', 'file=/tmp/tmp6e2dotu4/pvspfedr.json', 'init=/tmp/tmp6e2dotu4/bawr0h9e.json', 'output', 'file=/tmp/tmp6e2dotu4/prophet_modeljg6ilak7/prophet_model-20221118105120.csv', 'method=optimize', 'algorithm=lbfgs', 'iter=10000']\n",
            "10:51:20 - cmdstanpy - INFO - Chain [1] start processing\n",
            "INFO:cmdstanpy:Chain [1] start processing\n",
            "10:59:31 - cmdstanpy - INFO - Chain [1] done processing\n",
            "INFO:cmdstanpy:Chain [1] done processing\n"
          ]
        },
        {
          "output_type": "stream",
          "name": "stdout",
          "text": [
            "Root Mean Square Error(RMSE)------------------------------------ 164.99045104066514\n",
            "{'changepoint_prior_scale': 0.5, 'n_changepoints': 100, 'seasonality_mode': 'additive'}\n"
          ]
        },
        {
          "output_type": "stream",
          "name": "stderr",
          "text": [
            "DEBUG:cmdstanpy:input tempfile: /tmp/tmp6e2dotu4/85iiflec.json\n",
            "DEBUG:cmdstanpy:input tempfile: /tmp/tmp6e2dotu4/qh4u9vr9.json\n",
            "DEBUG:cmdstanpy:idx 0\n",
            "DEBUG:cmdstanpy:running CmdStan, num_threads: None\n",
            "DEBUG:cmdstanpy:CmdStan args: ['/usr/local/lib/python3.7/dist-packages/prophet/stan_model/prophet_model.bin', 'random', 'seed=54919', 'data', 'file=/tmp/tmp6e2dotu4/85iiflec.json', 'init=/tmp/tmp6e2dotu4/qh4u9vr9.json', 'output', 'file=/tmp/tmp6e2dotu4/prophet_modelr_s5jq8p/prophet_model-20221118110049.csv', 'method=optimize', 'algorithm=lbfgs', 'iter=10000']\n",
            "11:00:49 - cmdstanpy - INFO - Chain [1] start processing\n",
            "INFO:cmdstanpy:Chain [1] start processing\n",
            "11:10:58 - cmdstanpy - INFO - Chain [1] done processing\n",
            "INFO:cmdstanpy:Chain [1] done processing\n"
          ]
        },
        {
          "output_type": "stream",
          "name": "stdout",
          "text": [
            "Root Mean Square Error(RMSE)------------------------------------ 167.6184694304498\n",
            "{'changepoint_prior_scale': 0.5, 'n_changepoints': 150, 'seasonality_mode': 'multiplicative'}\n"
          ]
        },
        {
          "output_type": "stream",
          "name": "stderr",
          "text": [
            "DEBUG:cmdstanpy:input tempfile: /tmp/tmp6e2dotu4/2bzil9ma.json\n",
            "DEBUG:cmdstanpy:input tempfile: /tmp/tmp6e2dotu4/x5t8nn11.json\n",
            "DEBUG:cmdstanpy:idx 0\n",
            "DEBUG:cmdstanpy:running CmdStan, num_threads: None\n",
            "DEBUG:cmdstanpy:CmdStan args: ['/usr/local/lib/python3.7/dist-packages/prophet/stan_model/prophet_model.bin', 'random', 'seed=43455', 'data', 'file=/tmp/tmp6e2dotu4/2bzil9ma.json', 'init=/tmp/tmp6e2dotu4/x5t8nn11.json', 'output', 'file=/tmp/tmp6e2dotu4/prophet_model8sgct8r4/prophet_model-20221118111211.csv', 'method=optimize', 'algorithm=lbfgs', 'iter=10000']\n",
            "11:12:11 - cmdstanpy - INFO - Chain [1] start processing\n",
            "INFO:cmdstanpy:Chain [1] start processing\n",
            "11:27:54 - cmdstanpy - INFO - Chain [1] done processing\n",
            "INFO:cmdstanpy:Chain [1] done processing\n"
          ]
        },
        {
          "output_type": "stream",
          "name": "stdout",
          "text": [
            "Root Mean Square Error(RMSE)------------------------------------ 163.689619420576\n",
            "{'changepoint_prior_scale': 0.5, 'n_changepoints': 150, 'seasonality_mode': 'additive'}\n"
          ]
        },
        {
          "output_type": "stream",
          "name": "stderr",
          "text": [
            "DEBUG:cmdstanpy:input tempfile: /tmp/tmp6e2dotu4/oga52fwm.json\n",
            "DEBUG:cmdstanpy:input tempfile: /tmp/tmp6e2dotu4/jjbn5qx3.json\n",
            "DEBUG:cmdstanpy:idx 0\n",
            "DEBUG:cmdstanpy:running CmdStan, num_threads: None\n",
            "DEBUG:cmdstanpy:CmdStan args: ['/usr/local/lib/python3.7/dist-packages/prophet/stan_model/prophet_model.bin', 'random', 'seed=78910', 'data', 'file=/tmp/tmp6e2dotu4/oga52fwm.json', 'init=/tmp/tmp6e2dotu4/jjbn5qx3.json', 'output', 'file=/tmp/tmp6e2dotu4/prophet_model6w4gb9vy/prophet_model-20221118112913.csv', 'method=optimize', 'algorithm=lbfgs', 'iter=10000']\n",
            "11:29:13 - cmdstanpy - INFO - Chain [1] start processing\n",
            "INFO:cmdstanpy:Chain [1] start processing\n",
            "11:52:00 - cmdstanpy - INFO - Chain [1] done processing\n",
            "INFO:cmdstanpy:Chain [1] done processing\n"
          ]
        },
        {
          "output_type": "stream",
          "name": "stdout",
          "text": [
            "Root Mean Square Error(RMSE)------------------------------------ 166.48520629416905\n",
            "{'changepoint_prior_scale': 0.01, 'n_changepoints': 25, 'seasonality_mode': 'multiplicative'}\n"
          ]
        },
        {
          "output_type": "stream",
          "name": "stderr",
          "text": [
            "DEBUG:cmdstanpy:input tempfile: /tmp/tmp6e2dotu4/g626tg2m.json\n",
            "DEBUG:cmdstanpy:input tempfile: /tmp/tmp6e2dotu4/xb2949vw.json\n",
            "DEBUG:cmdstanpy:idx 0\n",
            "DEBUG:cmdstanpy:running CmdStan, num_threads: None\n",
            "DEBUG:cmdstanpy:CmdStan args: ['/usr/local/lib/python3.7/dist-packages/prophet/stan_model/prophet_model.bin', 'random', 'seed=65959', 'data', 'file=/tmp/tmp6e2dotu4/g626tg2m.json', 'init=/tmp/tmp6e2dotu4/xb2949vw.json', 'output', 'file=/tmp/tmp6e2dotu4/prophet_model_b23o0uk/prophet_model-20221118115327.csv', 'method=optimize', 'algorithm=lbfgs', 'iter=10000']\n",
            "11:53:27 - cmdstanpy - INFO - Chain [1] start processing\n",
            "INFO:cmdstanpy:Chain [1] start processing\n",
            "11:55:24 - cmdstanpy - INFO - Chain [1] done processing\n",
            "INFO:cmdstanpy:Chain [1] done processing\n"
          ]
        },
        {
          "output_type": "stream",
          "name": "stdout",
          "text": [
            "Root Mean Square Error(RMSE)------------------------------------ 171.6577422292124\n",
            "{'changepoint_prior_scale': 0.01, 'n_changepoints': 25, 'seasonality_mode': 'additive'}\n"
          ]
        },
        {
          "output_type": "stream",
          "name": "stderr",
          "text": [
            "DEBUG:cmdstanpy:input tempfile: /tmp/tmp6e2dotu4/adguwcjq.json\n",
            "DEBUG:cmdstanpy:input tempfile: /tmp/tmp6e2dotu4/jwzmfp8k.json\n",
            "DEBUG:cmdstanpy:idx 0\n",
            "DEBUG:cmdstanpy:running CmdStan, num_threads: None\n",
            "DEBUG:cmdstanpy:CmdStan args: ['/usr/local/lib/python3.7/dist-packages/prophet/stan_model/prophet_model.bin', 'random', 'seed=46301', 'data', 'file=/tmp/tmp6e2dotu4/adguwcjq.json', 'init=/tmp/tmp6e2dotu4/jwzmfp8k.json', 'output', 'file=/tmp/tmp6e2dotu4/prophet_model8cnph2my/prophet_model-20221118115641.csv', 'method=optimize', 'algorithm=lbfgs', 'iter=10000']\n",
            "11:56:41 - cmdstanpy - INFO - Chain [1] start processing\n",
            "INFO:cmdstanpy:Chain [1] start processing\n",
            "11:58:33 - cmdstanpy - INFO - Chain [1] done processing\n",
            "INFO:cmdstanpy:Chain [1] done processing\n"
          ]
        },
        {
          "output_type": "stream",
          "name": "stdout",
          "text": [
            "Root Mean Square Error(RMSE)------------------------------------ 175.65087045458085\n",
            "{'changepoint_prior_scale': 0.01, 'n_changepoints': 100, 'seasonality_mode': 'multiplicative'}\n"
          ]
        },
        {
          "output_type": "stream",
          "name": "stderr",
          "text": [
            "DEBUG:cmdstanpy:input tempfile: /tmp/tmp6e2dotu4/znrqg6fr.json\n",
            "DEBUG:cmdstanpy:input tempfile: /tmp/tmp6e2dotu4/ccwmyc29.json\n",
            "DEBUG:cmdstanpy:idx 0\n",
            "DEBUG:cmdstanpy:running CmdStan, num_threads: None\n",
            "DEBUG:cmdstanpy:CmdStan args: ['/usr/local/lib/python3.7/dist-packages/prophet/stan_model/prophet_model.bin', 'random', 'seed=10471', 'data', 'file=/tmp/tmp6e2dotu4/znrqg6fr.json', 'init=/tmp/tmp6e2dotu4/ccwmyc29.json', 'output', 'file=/tmp/tmp6e2dotu4/prophet_modellvrrhwrp/prophet_model-20221118115947.csv', 'method=optimize', 'algorithm=lbfgs', 'iter=10000']\n",
            "11:59:47 - cmdstanpy - INFO - Chain [1] start processing\n",
            "INFO:cmdstanpy:Chain [1] start processing\n",
            "12:06:30 - cmdstanpy - INFO - Chain [1] done processing\n",
            "INFO:cmdstanpy:Chain [1] done processing\n"
          ]
        },
        {
          "output_type": "stream",
          "name": "stdout",
          "text": [
            "Root Mean Square Error(RMSE)------------------------------------ 170.16765021376622\n",
            "{'changepoint_prior_scale': 0.01, 'n_changepoints': 100, 'seasonality_mode': 'additive'}\n"
          ]
        },
        {
          "output_type": "stream",
          "name": "stderr",
          "text": [
            "DEBUG:cmdstanpy:input tempfile: /tmp/tmp6e2dotu4/dbl7bjgf.json\n",
            "DEBUG:cmdstanpy:input tempfile: /tmp/tmp6e2dotu4/n0x3u933.json\n",
            "DEBUG:cmdstanpy:idx 0\n",
            "DEBUG:cmdstanpy:running CmdStan, num_threads: None\n",
            "DEBUG:cmdstanpy:CmdStan args: ['/usr/local/lib/python3.7/dist-packages/prophet/stan_model/prophet_model.bin', 'random', 'seed=41030', 'data', 'file=/tmp/tmp6e2dotu4/dbl7bjgf.json', 'init=/tmp/tmp6e2dotu4/n0x3u933.json', 'output', 'file=/tmp/tmp6e2dotu4/prophet_modelw4bwyi58/prophet_model-20221118120747.csv', 'method=optimize', 'algorithm=lbfgs', 'iter=10000']\n",
            "12:07:47 - cmdstanpy - INFO - Chain [1] start processing\n",
            "INFO:cmdstanpy:Chain [1] start processing\n",
            "12:14:09 - cmdstanpy - INFO - Chain [1] done processing\n",
            "INFO:cmdstanpy:Chain [1] done processing\n"
          ]
        },
        {
          "output_type": "stream",
          "name": "stdout",
          "text": [
            "Root Mean Square Error(RMSE)------------------------------------ 174.57055589704143\n",
            "{'changepoint_prior_scale': 0.01, 'n_changepoints': 150, 'seasonality_mode': 'multiplicative'}\n"
          ]
        },
        {
          "output_type": "stream",
          "name": "stderr",
          "text": [
            "DEBUG:cmdstanpy:input tempfile: /tmp/tmp6e2dotu4/o6atdy7m.json\n",
            "DEBUG:cmdstanpy:input tempfile: /tmp/tmp6e2dotu4/t297o7t0.json\n",
            "DEBUG:cmdstanpy:idx 0\n",
            "DEBUG:cmdstanpy:running CmdStan, num_threads: None\n",
            "DEBUG:cmdstanpy:CmdStan args: ['/usr/local/lib/python3.7/dist-packages/prophet/stan_model/prophet_model.bin', 'random', 'seed=98759', 'data', 'file=/tmp/tmp6e2dotu4/o6atdy7m.json', 'init=/tmp/tmp6e2dotu4/t297o7t0.json', 'output', 'file=/tmp/tmp6e2dotu4/prophet_modelhfe5zda8/prophet_model-20221118121529.csv', 'method=optimize', 'algorithm=lbfgs', 'iter=10000']\n",
            "12:15:29 - cmdstanpy - INFO - Chain [1] start processing\n",
            "INFO:cmdstanpy:Chain [1] start processing\n",
            "12:23:41 - cmdstanpy - INFO - Chain [1] done processing\n",
            "INFO:cmdstanpy:Chain [1] done processing\n"
          ]
        },
        {
          "output_type": "stream",
          "name": "stdout",
          "text": [
            "Root Mean Square Error(RMSE)------------------------------------ 170.141336687271\n",
            "{'changepoint_prior_scale': 0.01, 'n_changepoints': 150, 'seasonality_mode': 'additive'}\n"
          ]
        },
        {
          "output_type": "stream",
          "name": "stderr",
          "text": [
            "DEBUG:cmdstanpy:input tempfile: /tmp/tmp6e2dotu4/t5l15tn7.json\n",
            "DEBUG:cmdstanpy:input tempfile: /tmp/tmp6e2dotu4/qre472sy.json\n",
            "DEBUG:cmdstanpy:idx 0\n",
            "DEBUG:cmdstanpy:running CmdStan, num_threads: None\n",
            "DEBUG:cmdstanpy:CmdStan args: ['/usr/local/lib/python3.7/dist-packages/prophet/stan_model/prophet_model.bin', 'random', 'seed=51619', 'data', 'file=/tmp/tmp6e2dotu4/t5l15tn7.json', 'init=/tmp/tmp6e2dotu4/qre472sy.json', 'output', 'file=/tmp/tmp6e2dotu4/prophet_model71p30fnb/prophet_model-20221118122500.csv', 'method=optimize', 'algorithm=lbfgs', 'iter=10000']\n",
            "12:25:00 - cmdstanpy - INFO - Chain [1] start processing\n",
            "INFO:cmdstanpy:Chain [1] start processing\n",
            "12:33:33 - cmdstanpy - INFO - Chain [1] done processing\n",
            "INFO:cmdstanpy:Chain [1] done processing\n"
          ]
        },
        {
          "output_type": "stream",
          "name": "stdout",
          "text": [
            "Root Mean Square Error(RMSE)------------------------------------ 174.46157028073392\n",
            "{'changepoint_prior_scale': 0.001, 'n_changepoints': 25, 'seasonality_mode': 'multiplicative'}\n"
          ]
        },
        {
          "output_type": "stream",
          "name": "stderr",
          "text": [
            "DEBUG:cmdstanpy:input tempfile: /tmp/tmp6e2dotu4/q5fjn68m.json\n",
            "DEBUG:cmdstanpy:input tempfile: /tmp/tmp6e2dotu4/m6jqff1v.json\n",
            "DEBUG:cmdstanpy:idx 0\n",
            "DEBUG:cmdstanpy:running CmdStan, num_threads: None\n",
            "DEBUG:cmdstanpy:CmdStan args: ['/usr/local/lib/python3.7/dist-packages/prophet/stan_model/prophet_model.bin', 'random', 'seed=91627', 'data', 'file=/tmp/tmp6e2dotu4/q5fjn68m.json', 'init=/tmp/tmp6e2dotu4/m6jqff1v.json', 'output', 'file=/tmp/tmp6e2dotu4/prophet_modeloha8en1v/prophet_model-20221118123456.csv', 'method=optimize', 'algorithm=lbfgs', 'iter=10000']\n",
            "12:34:56 - cmdstanpy - INFO - Chain [1] start processing\n",
            "INFO:cmdstanpy:Chain [1] start processing\n",
            "12:35:15 - cmdstanpy - INFO - Chain [1] done processing\n",
            "INFO:cmdstanpy:Chain [1] done processing\n"
          ]
        },
        {
          "output_type": "stream",
          "name": "stdout",
          "text": [
            "Root Mean Square Error(RMSE)------------------------------------ 177.81560589755514\n",
            "{'changepoint_prior_scale': 0.001, 'n_changepoints': 25, 'seasonality_mode': 'additive'}\n"
          ]
        },
        {
          "output_type": "stream",
          "name": "stderr",
          "text": [
            "DEBUG:cmdstanpy:input tempfile: /tmp/tmp6e2dotu4/n8b_2shx.json\n",
            "DEBUG:cmdstanpy:input tempfile: /tmp/tmp6e2dotu4/mzbt5a_4.json\n",
            "DEBUG:cmdstanpy:idx 0\n",
            "DEBUG:cmdstanpy:running CmdStan, num_threads: None\n",
            "DEBUG:cmdstanpy:CmdStan args: ['/usr/local/lib/python3.7/dist-packages/prophet/stan_model/prophet_model.bin', 'random', 'seed=15968', 'data', 'file=/tmp/tmp6e2dotu4/n8b_2shx.json', 'init=/tmp/tmp6e2dotu4/mzbt5a_4.json', 'output', 'file=/tmp/tmp6e2dotu4/prophet_modelwlj466w3/prophet_model-20221118123636.csv', 'method=optimize', 'algorithm=lbfgs', 'iter=10000']\n",
            "12:36:36 - cmdstanpy - INFO - Chain [1] start processing\n",
            "INFO:cmdstanpy:Chain [1] start processing\n",
            "12:37:04 - cmdstanpy - INFO - Chain [1] done processing\n",
            "INFO:cmdstanpy:Chain [1] done processing\n"
          ]
        },
        {
          "output_type": "stream",
          "name": "stdout",
          "text": [
            "Root Mean Square Error(RMSE)------------------------------------ 181.09991155340205\n",
            "{'changepoint_prior_scale': 0.001, 'n_changepoints': 100, 'seasonality_mode': 'multiplicative'}\n"
          ]
        },
        {
          "output_type": "stream",
          "name": "stderr",
          "text": [
            "DEBUG:cmdstanpy:input tempfile: /tmp/tmp6e2dotu4/0rnwnmsq.json\n",
            "DEBUG:cmdstanpy:input tempfile: /tmp/tmp6e2dotu4/aam4w1e2.json\n",
            "DEBUG:cmdstanpy:idx 0\n",
            "DEBUG:cmdstanpy:running CmdStan, num_threads: None\n",
            "DEBUG:cmdstanpy:CmdStan args: ['/usr/local/lib/python3.7/dist-packages/prophet/stan_model/prophet_model.bin', 'random', 'seed=71521', 'data', 'file=/tmp/tmp6e2dotu4/0rnwnmsq.json', 'init=/tmp/tmp6e2dotu4/aam4w1e2.json', 'output', 'file=/tmp/tmp6e2dotu4/prophet_modeliwykqjsa/prophet_model-20221118123826.csv', 'method=optimize', 'algorithm=lbfgs', 'iter=10000']\n",
            "12:38:26 - cmdstanpy - INFO - Chain [1] start processing\n",
            "INFO:cmdstanpy:Chain [1] start processing\n",
            "12:39:57 - cmdstanpy - INFO - Chain [1] done processing\n",
            "INFO:cmdstanpy:Chain [1] done processing\n"
          ]
        },
        {
          "output_type": "stream",
          "name": "stdout",
          "text": [
            "Root Mean Square Error(RMSE)------------------------------------ 177.058127764644\n",
            "{'changepoint_prior_scale': 0.001, 'n_changepoints': 100, 'seasonality_mode': 'additive'}\n"
          ]
        },
        {
          "output_type": "stream",
          "name": "stderr",
          "text": [
            "DEBUG:cmdstanpy:input tempfile: /tmp/tmp6e2dotu4/t45z1x8f.json\n",
            "DEBUG:cmdstanpy:input tempfile: /tmp/tmp6e2dotu4/b3zrrm33.json\n",
            "DEBUG:cmdstanpy:idx 0\n",
            "DEBUG:cmdstanpy:running CmdStan, num_threads: None\n",
            "DEBUG:cmdstanpy:CmdStan args: ['/usr/local/lib/python3.7/dist-packages/prophet/stan_model/prophet_model.bin', 'random', 'seed=40761', 'data', 'file=/tmp/tmp6e2dotu4/t45z1x8f.json', 'init=/tmp/tmp6e2dotu4/b3zrrm33.json', 'output', 'file=/tmp/tmp6e2dotu4/prophet_modelg3zttwtj/prophet_model-20221118124117.csv', 'method=optimize', 'algorithm=lbfgs', 'iter=10000']\n",
            "12:41:17 - cmdstanpy - INFO - Chain [1] start processing\n",
            "INFO:cmdstanpy:Chain [1] start processing\n",
            "12:42:37 - cmdstanpy - INFO - Chain [1] done processing\n",
            "INFO:cmdstanpy:Chain [1] done processing\n"
          ]
        },
        {
          "output_type": "stream",
          "name": "stdout",
          "text": [
            "Root Mean Square Error(RMSE)------------------------------------ 180.7010625240818\n",
            "{'changepoint_prior_scale': 0.001, 'n_changepoints': 150, 'seasonality_mode': 'multiplicative'}\n"
          ]
        },
        {
          "output_type": "stream",
          "name": "stderr",
          "text": [
            "DEBUG:cmdstanpy:input tempfile: /tmp/tmp6e2dotu4/4pu2zwix.json\n",
            "DEBUG:cmdstanpy:input tempfile: /tmp/tmp6e2dotu4/u7ralfgn.json\n",
            "DEBUG:cmdstanpy:idx 0\n",
            "DEBUG:cmdstanpy:running CmdStan, num_threads: None\n",
            "DEBUG:cmdstanpy:CmdStan args: ['/usr/local/lib/python3.7/dist-packages/prophet/stan_model/prophet_model.bin', 'random', 'seed=57587', 'data', 'file=/tmp/tmp6e2dotu4/4pu2zwix.json', 'init=/tmp/tmp6e2dotu4/u7ralfgn.json', 'output', 'file=/tmp/tmp6e2dotu4/prophet_model0mtwdl5r/prophet_model-20221118124359.csv', 'method=optimize', 'algorithm=lbfgs', 'iter=10000']\n",
            "12:43:59 - cmdstanpy - INFO - Chain [1] start processing\n",
            "INFO:cmdstanpy:Chain [1] start processing\n",
            "12:46:06 - cmdstanpy - INFO - Chain [1] done processing\n",
            "INFO:cmdstanpy:Chain [1] done processing\n"
          ]
        },
        {
          "output_type": "stream",
          "name": "stdout",
          "text": [
            "Root Mean Square Error(RMSE)------------------------------------ 177.0084160440324\n",
            "{'changepoint_prior_scale': 0.001, 'n_changepoints': 150, 'seasonality_mode': 'additive'}\n"
          ]
        },
        {
          "output_type": "stream",
          "name": "stderr",
          "text": [
            "DEBUG:cmdstanpy:input tempfile: /tmp/tmp6e2dotu4/l5jj45hu.json\n",
            "DEBUG:cmdstanpy:input tempfile: /tmp/tmp6e2dotu4/60_djqbn.json\n",
            "DEBUG:cmdstanpy:idx 0\n",
            "DEBUG:cmdstanpy:running CmdStan, num_threads: None\n",
            "DEBUG:cmdstanpy:CmdStan args: ['/usr/local/lib/python3.7/dist-packages/prophet/stan_model/prophet_model.bin', 'random', 'seed=31918', 'data', 'file=/tmp/tmp6e2dotu4/l5jj45hu.json', 'init=/tmp/tmp6e2dotu4/60_djqbn.json', 'output', 'file=/tmp/tmp6e2dotu4/prophet_model4_5zz3ss/prophet_model-20221118124722.csv', 'method=optimize', 'algorithm=lbfgs', 'iter=10000']\n",
            "12:47:22 - cmdstanpy - INFO - Chain [1] start processing\n",
            "INFO:cmdstanpy:Chain [1] start processing\n",
            "12:48:59 - cmdstanpy - INFO - Chain [1] done processing\n",
            "INFO:cmdstanpy:Chain [1] done processing\n"
          ]
        },
        {
          "output_type": "stream",
          "name": "stdout",
          "text": [
            "Root Mean Square Error(RMSE)------------------------------------ 180.54881459101975\n"
          ]
        }
      ]
    },
    {
      "cell_type": "markdown",
      "source": [
        "## 3 Training Model with minimum RMSE"
      ],
      "metadata": {
        "id": "mkxfk9HWy07_"
      }
    },
    {
      "cell_type": "code",
      "source": [
        "best_params = model_parameters[model_parameters['RMSE']==model_parameters['RMSE'].min()]['Parameters'].to_list()\n",
        "best_params"
      ],
      "metadata": {
        "colab": {
          "base_uri": "https://localhost:8080/"
        },
        "id": "9DSVDdE1ynCY",
        "outputId": "cd7a064d-539b-4904-c8f2-942b5f4b6c76"
      },
      "execution_count": null,
      "outputs": [
        {
          "output_type": "execute_result",
          "data": {
            "text/plain": [
              "[{'changepoint_prior_scale': 0.5,\n",
              "  'n_changepoints': 150,\n",
              "  'seasonality_mode': 'multiplicative'}]"
            ]
          },
          "metadata": {},
          "execution_count": 65
        }
      ]
    },
    {
      "cell_type": "code",
      "source": [
        "np.random.seed(42)\n",
        "m =Prophet(changepoint_prior_scale = 0.5,                         \n",
        "                     n_changepoints = 150,\n",
        "                     seasonality_mode = 'multiplicative',\n",
        "                     weekly_seasonality=True,\n",
        "                     daily_seasonality = True,\n",
        "                     yearly_seasonality = True,                          \n",
        "                     interval_width=0.95)    \n",
        "m.fit(prophet_data);"
      ],
      "metadata": {
        "colab": {
          "base_uri": "https://localhost:8080/"
        },
        "id": "Let30x4qynFe",
        "outputId": "5e34e98c-4e69-4194-e600-6af1618e16dd"
      },
      "execution_count": null,
      "outputs": [
        {
          "output_type": "stream",
          "name": "stderr",
          "text": [
            "DEBUG:cmdstanpy:input tempfile: /tmp/tmpwcqclzpl/rxa8cozw.json\n",
            "DEBUG:cmdstanpy:input tempfile: /tmp/tmpwcqclzpl/6bz3fr6w.json\n",
            "DEBUG:cmdstanpy:idx 0\n",
            "DEBUG:cmdstanpy:running CmdStan, num_threads: None\n",
            "DEBUG:cmdstanpy:CmdStan args: ['/usr/local/lib/python3.7/dist-packages/prophet/stan_model/prophet_model.bin', 'random', 'seed=30470', 'data', 'file=/tmp/tmpwcqclzpl/rxa8cozw.json', 'init=/tmp/tmpwcqclzpl/6bz3fr6w.json', 'output', 'file=/tmp/tmpwcqclzpl/prophet_modeluhjw8z8_/prophet_model-20221120053701.csv', 'method=optimize', 'algorithm=lbfgs', 'iter=10000']\n",
            "05:37:01 - cmdstanpy - INFO - Chain [1] start processing\n",
            "INFO:cmdstanpy:Chain [1] start processing\n",
            "05:53:04 - cmdstanpy - INFO - Chain [1] done processing\n",
            "INFO:cmdstanpy:Chain [1] done processing\n"
          ]
        }
      ]
    },
    {
      "cell_type": "code",
      "source": [
        "with open('best_model.json', 'w') as fout:\n",
        "    fout.write(model_to_json(m))  # Save model"
      ],
      "metadata": {
        "id": "U4Mf6xf9ynIm"
      },
      "execution_count": null,
      "outputs": []
    },
    {
      "cell_type": "code",
      "source": [
        "with open('best_model.json', 'r') as fin:\n",
        "    m = model_from_json(fin.read())  # Load model"
      ],
      "metadata": {
        "id": "lmqy-qBeynLP"
      },
      "execution_count": null,
      "outputs": []
    },
    {
      "cell_type": "code",
      "source": [
        "train_forecast = m.make_future_dataframe(periods=26304, freq='H');\n",
        "train_forecast = m.predict(train_forecast);    \n",
        "test=train_forecast[['ds','yhat']]\n",
        "\n",
        "Actual = data.iloc[:data.shape[0], 2:]\n",
        "rmse = np.sqrt(mean_squared_error(test.loc[:data.shape[0]-1, 'yhat'], data['energy']))\n",
        "print('Root Mean Square Error(RMSE) :',round(rmse,2))"
      ],
      "metadata": {
        "colab": {
          "base_uri": "https://localhost:8080/"
        },
        "id": "m-w3uh-JzFKA",
        "outputId": "349ba423-8f8a-4e57-85b2-8b7534634508"
      },
      "execution_count": null,
      "outputs": [
        {
          "output_type": "stream",
          "name": "stdout",
          "text": [
            "Root Mean Square Error(RMSE) : 163.69\n"
          ]
        }
      ]
    },
    {
      "cell_type": "code",
      "source": [
        "fig1 = m.plot(train_forecast)"
      ],
      "metadata": {
        "colab": {
          "base_uri": "https://localhost:8080/",
          "height": 441
        },
        "id": "SDuauY4qzFMu",
        "outputId": "16ec8e6a-ba1d-4de2-9d2d-2c7849d65d1a"
      },
      "execution_count": null,
      "outputs": [
        {
          "output_type": "display_data",
          "data": {
            "text/plain": [
              "<Figure size 720x432 with 1 Axes>"
            ],
            "image/png": "[encoded data removed]"
          },
          "metadata": {}
        }
      ]
    },
    {
      "cell_type": "code",
      "source": [
        "fig2 = m.plot_components(train_forecast)"
      ],
      "metadata": {
        "colab": {
          "base_uri": "https://localhost:8080/",
          "height": 873
        },
        "id": "vc-lUuo_zFPJ",
        "outputId": "2db4bd8e-6527-413b-dbe6-76c0ac1b6d97"
      },
      "execution_count": null,
      "outputs": [
        {
          "output_type": "display_data",
          "data": {
            "text/plain": [
              "<Figure size 648x864 with 4 Axes>"
            ],
            "image/png": "[encoded data removed]"
          },
          "metadata": {}
        }
      ]
    },
    {
      "cell_type": "code",
      "source": [
        "print('The RMSE value is {}% of average energy demand for the last year'.format(round(163.69/(data[data['year']==2018]['energy'].mean())*100, 2)))"
      ],
      "metadata": {
        "colab": {
          "base_uri": "https://localhost:8080/"
        },
        "id": "YFrksgg_f3CV",
        "outputId": "794fa71a-dc7c-49aa-b381-29b659a43605"
      },
      "execution_count": null,
      "outputs": [
        {
          "output_type": "stream",
          "name": "stdout",
          "text": [
            "The RMSE value is 8.03% of average energy demand for the last year\n"
          ]
        }
      ]
    },
    {
      "cell_type": "markdown",
      "source": [
        "# 4.0 Forecast Results\n",
        "- Assumption: The unit of Energy demand is kWh"
      ],
      "metadata": {
        "id": "o6sJYxcoOcYi"
      }
    },
    {
      "cell_type": "code",
      "source": [
        "demand_2018 = round(data[data['year']==2018]['energy'].sum()/1e6,2)\n",
        "print('Total Energy Demand for last year is {} GWh'.format(demand_2018))\n",
        "print('Total Energy demand met by Renewable resources last year is {} GWh'.format(0.6*demand_2018))"
      ],
      "metadata": {
        "colab": {
          "base_uri": "https://localhost:8080/"
        },
        "id": "lHwDvhiDvTS6",
        "outputId": "f522cd7c-ba1c-40f5-8c38-8cb8320ee999"
      },
      "execution_count": null,
      "outputs": [
        {
          "output_type": "stream",
          "name": "stdout",
          "text": [
            "Total Energy Demand for last year is 17.85 GWh\n",
            "Total Energy demand met by Renewable resources last year is 10.71 GWh\n"
          ]
        }
      ]
    },
    {
      "cell_type": "code",
      "source": [
        "test['year'] = test['ds'].dt.year\n",
        "\n",
        "forecast_2019 = round(test[test['year']==2019]['yhat'].sum()/1e6, 2)\n",
        "forecast_2020 = round(test[test['year']==2020]['yhat'].sum()/1e6, 2)\n",
        "forecast_2021 = round(test[test['year']==2021]['yhat'].sum()/1e6, 2)\n",
        "\n",
        "demand_incr_2018_19 = round((forecast_2019/demand_2018 - 1) * 100, 2)\n",
        "demand_incr_2019_20 = round((forecast_2020/forecast_2019- 1) * 100, 2)\n",
        "demand_incr_2020_21 = round((forecast_2021/forecast_2020- 1) * 100, 2)\n",
        "\n",
        "forecast = [forecast_2019, forecast_2020, forecast_2021]\n",
        "demand_incr = [demand_incr_2018_19, demand_incr_2019_20, demand_incr_2020_21]\n",
        "\n",
        "dict = {\n",
        "    'year' : range(2019,2022),\n",
        "    'forecast (GWh)' : forecast,\n",
        "    'demand_increase (%)' : demand_incr\n",
        "\n",
        "}\n",
        "\n",
        "forecast_results = pd.DataFrame(dict)\n",
        "forecast_results = forecast_results.set_index('year')"
      ],
      "metadata": {
        "id": "v22-K8dZtL08"
      },
      "execution_count": null,
      "outputs": []
    },
    {
      "cell_type": "code",
      "source": [
        "forecast_results"
      ],
      "metadata": {
        "colab": {
          "base_uri": "https://localhost:8080/",
          "height": 175
        },
        "id": "JTYXEb6isTut",
        "outputId": "8e2543a7-d699-4c86-928c-32b43358ec8f"
      },
      "execution_count": null,
      "outputs": [
        {
          "output_type": "execute_result",
          "data": {
            "text/plain": [
              "      forecast (GWh)  demand_increase (%)\n",
              "year                                     \n",
              "2019           18.25                 2.24\n",
              "2020           18.74                 2.68\n",
              "2021           19.13                 2.08"
            ],
            "text/html": [
              "\n",
              "  <div id=\"df-ebca1445-a8d3-43b5-93a3-94964286d30e\">\n",
              "    <div class=\"colab-df-container\">\n",
              "      <div>\n",
              "<style scoped>\n",
              "    .dataframe tbody tr th:only-of-type {\n",
              "        vertical-align: middle;\n",
              "    }\n",
              "\n",
              "    .dataframe tbody tr th {\n",
              "        vertical-align: top;\n",
              "    }\n",
              "\n",
              "    .dataframe thead th {\n",
              "        text-align: right;\n",
              "    }\n",
              "</style>\n",
              "<table border=\"1\" class=\"dataframe\">\n",
              "  <thead>\n",
              "    <tr style=\"text-align: right;\">\n",
              "      <th></th>\n",
              "      <th>forecast (GWh)</th>\n",
              "      <th>demand_increase (%)</th>\n",
              "    </tr>\n",
              "    <tr>\n",
              "      <th>year</th>\n",
              "      <th></th>\n",
              "      <th></th>\n",
              "    </tr>\n",
              "  </thead>\n",
              "  <tbody>\n",
              "    <tr>\n",
              "      <th>2019</th>\n",
              "      <td>18.25</td>\n",
              "      <td>2.24</td>\n",
              "    </tr>\n",
              "    <tr>\n",
              "      <th>2020</th>\n",
              "      <td>18.74</td>\n",
              "      <td>2.68</td>\n",
              "    </tr>\n",
              "    <tr>\n",
              "      <th>2021</th>\n",
              "      <td>19.13</td>\n",
              "      <td>2.08</td>\n",
              "    </tr>\n",
              "  </tbody>\n",
              "</table>\n",
              "</div>\n",
              "      <button class=\"colab-df-convert\" onclick=\"convertToInteractive('df-ebca1445-a8d3-43b5-93a3-94964286d30e')\"\n",
              "              title=\"Convert this dataframe to an interactive table.\"\n",
              "              style=\"display:none;\">\n",
              "        \n",
              "  <svg xmlns=\"http://www.w3.org/2000/svg\" height=\"24px\"viewBox=\"0 0 24 24\"\n",
              "       width=\"24px\">\n",
              "    <path d=\"M0 0h24v24H0V0z\" fill=\"none\"/>\n",
              "    <path d=\"M18.56 5.44l.94 2.06.94-2.06 2.06-.94-2.06-.94-.94-2.06-.94 2.06-2.06.94zm-11 1L8.5 8.5l.94-2.06 2.06-.94-2.06-.94L8.5 2.5l-.94 2.06-2.06.94zm10 10l.94 2.06.94-2.06 2.06-.94-2.06-.94-.94-2.06-.94 2.06-2.06.94z\"/><path d=\"M17.41 7.96l-1.37-1.37c-.4-.4-.92-.59-1.43-.59-.52 0-1.04.2-1.43.59L10.3 9.45l-7.72 7.72c-.78.78-.78 2.05 0 2.83L4 21.41c.39.39.9.59 1.41.59.51 0 1.02-.2 1.41-.59l7.78-7.78 2.81-2.81c.8-.78.8-2.07 0-2.86zM5.41 20L4 18.59l7.72-7.72 1.47 1.35L5.41 20z\"/>\n",
              "  </svg>\n",
              "      </button>\n",
              "      \n",
              "  <style>\n",
              "    .colab-df-container {\n",
              "      display:flex;\n",
              "      flex-wrap:wrap;\n",
              "      gap: 12px;\n",
              "    }\n",
              "\n",
              "    .colab-df-convert {\n",
              "      background-color: #E8F0FE;\n",
              "      border: none;\n",
              "      border-radius: 50%;\n",
              "      cursor: pointer;\n",
              "      display: none;\n",
              "      fill: #1967D2;\n",
              "      height: 32px;\n",
              "      padding: 0 0 0 0;\n",
              "      width: 32px;\n",
              "    }\n",
              "\n",
              "    .colab-df-convert:hover {\n",
              "      background-color: #E2EBFA;\n",
              "      box-shadow: 0px 1px 2px rgba(60, 64, 67, 0.3), 0px 1px 3px 1px rgba(60, 64, 67, 0.15);\n",
              "      fill: #174EA6;\n",
              "    }\n",
              "\n",
              "    [theme=dark] .colab-df-convert {\n",
              "      background-color: #3B4455;\n",
              "      fill: #D2E3FC;\n",
              "    }\n",
              "\n",
              "    [theme=dark] .colab-df-convert:hover {\n",
              "      background-color: #434B5C;\n",
              "      box-shadow: 0px 1px 3px 1px rgba(0, 0, 0, 0.15);\n",
              "      filter: drop-shadow(0px 1px 2px rgba(0, 0, 0, 0.3));\n",
              "      fill: #FFFFFF;\n",
              "    }\n",
              "  </style>\n",
              "\n",
              "      <script>\n",
              "        const buttonEl =\n",
              "          document.querySelector('#df-ebca1445-a8d3-43b5-93a3-94964286d30e button.colab-df-convert');\n",
              "        buttonEl.style.display =\n",
              "          google.colab.kernel.accessAllowed ? 'block' : 'none';\n",
              "\n",
              "        async function convertToInteractive(key) {\n",
              "          const element = document.querySelector('#df-ebca1445-a8d3-43b5-93a3-94964286d30e');\n",
              "          const dataTable =\n",
              "            await google.colab.kernel.invokeFunction('convertToInteractive',\n",
              "                                                     [key], {});\n",
              "          if (!dataTable) return;\n",
              "\n",
              "          const docLinkHtml = 'Like what you see? Visit the ' +\n",
              "            '<a target=\"_blank\" href=https://colab.research.google.com/notebooks/data_table.ipynb>data table notebook</a>'\n",
              "            + ' to learn more about interactive tables.';\n",
              "          element.innerHTML = '';\n",
              "          dataTable['output_type'] = 'display_data';\n",
              "          await google.colab.output.renderOutput(dataTable, element);\n",
              "          const docLink = document.createElement('div');\n",
              "          docLink.innerHTML = docLinkHtml;\n",
              "          element.appendChild(docLink);\n",
              "        }\n",
              "      </script>\n",
              "    </div>\n",
              "  </div>\n",
              "  "
            ]
          },
          "metadata": {},
          "execution_count": 163
        }
      ]
    },
    {
      "cell_type": "markdown",
      "source": [
        "# 5.0 Conclusion"
      ],
      "metadata": {
        "id": "QrMXfE2jv1mK"
      }
    },
    {
      "cell_type": "markdown",
      "source": [
        "- There is a **more than 2% demand increase** in energy over the years.\n",
        "- For the year 2018, 60% of demand i.e. **10.71 GWh** is met by Renewable resources.\n",
        "- Considering a steady linear growth of going from 60% dependency on Renewable resources to 95% in the year 2030, for the year 2021, around **69%** of demand has to be met by Renewable resources.\n",
        "- The total forecasted demand for the year 2021 is 19.13 GWh and considering 69% of demand to be met by Renewable resources, the energy demand works out to be **13.2 GWh**.\n",
        "- This is **23% increase** in demand which needs to be met by Renewable resources.\n",
        "- Now would be a good time to expand the existing plant capacities or invest in new technologies."
      ],
      "metadata": {
        "id": "mqT3aOMZOetC"
      }
    },
    {
      "cell_type": "markdown",
      "source": [
        "# 6.0 Submission"
      ],
      "metadata": {
        "id": "tV8gcCMe1OYf"
      }
    },
    {
      "cell_type": "code",
      "source": [
        "data.tail()"
      ],
      "metadata": {
        "colab": {
          "base_uri": "https://localhost:8080/",
          "height": 206
        },
        "id": "dS-ghhU81cPq",
        "outputId": "d04bc225-143f-4ae8-87c0-7aa47b82dd92"
      },
      "execution_count": null,
      "outputs": [
        {
          "output_type": "execute_result",
          "data": {
            "text/plain": [
              "       row_id            datetime     energy  hour  day  month  year\n",
              "94987   94988 2018-12-31 19:00:00  2528.4468    19    0     12  2018\n",
              "94988   94989 2018-12-31 20:00:00  2461.8836    20    0     12  2018\n",
              "94989   94990 2018-12-31 21:00:00  2365.9944    21    0     12  2018\n",
              "94990   94991 2018-12-31 22:00:00  2342.9428    22    0     12  2018\n",
              "94991   94992 2018-12-31 23:00:00  2180.2176    23    0     12  2018"
            ],
            "text/html": [
              "\n",
              "  <div id=\"df-6bb8753e-91c3-4d9a-942c-63a1488e1f71\">\n",
              "    <div class=\"colab-df-container\">\n",
              "      <div>\n",
              "<style scoped>\n",
              "    .dataframe tbody tr th:only-of-type {\n",
              "        vertical-align: middle;\n",
              "    }\n",
              "\n",
              "    .dataframe tbody tr th {\n",
              "        vertical-align: top;\n",
              "    }\n",
              "\n",
              "    .dataframe thead th {\n",
              "        text-align: right;\n",
              "    }\n",
              "</style>\n",
              "<table border=\"1\" class=\"dataframe\">\n",
              "  <thead>\n",
              "    <tr style=\"text-align: right;\">\n",
              "      <th></th>\n",
              "      <th>row_id</th>\n",
              "      <th>datetime</th>\n",
              "      <th>energy</th>\n",
              "      <th>hour</th>\n",
              "      <th>day</th>\n",
              "      <th>month</th>\n",
              "      <th>year</th>\n",
              "    </tr>\n",
              "  </thead>\n",
              "  <tbody>\n",
              "    <tr>\n",
              "      <th>94987</th>\n",
              "      <td>94988</td>\n",
              "      <td>2018-12-31 19:00:00</td>\n",
              "      <td>2528.4468</td>\n",
              "      <td>19</td>\n",
              "      <td>0</td>\n",
              "      <td>12</td>\n",
              "      <td>2018</td>\n",
              "    </tr>\n",
              "    <tr>\n",
              "      <th>94988</th>\n",
              "      <td>94989</td>\n",
              "      <td>2018-12-31 20:00:00</td>\n",
              "      <td>2461.8836</td>\n",
              "      <td>20</td>\n",
              "      <td>0</td>\n",
              "      <td>12</td>\n",
              "      <td>2018</td>\n",
              "    </tr>\n",
              "    <tr>\n",
              "      <th>94989</th>\n",
              "      <td>94990</td>\n",
              "      <td>2018-12-31 21:00:00</td>\n",
              "      <td>2365.9944</td>\n",
              "      <td>21</td>\n",
              "      <td>0</td>\n",
              "      <td>12</td>\n",
              "      <td>2018</td>\n",
              "    </tr>\n",
              "    <tr>\n",
              "      <th>94990</th>\n",
              "      <td>94991</td>\n",
              "      <td>2018-12-31 22:00:00</td>\n",
              "      <td>2342.9428</td>\n",
              "      <td>22</td>\n",
              "      <td>0</td>\n",
              "      <td>12</td>\n",
              "      <td>2018</td>\n",
              "    </tr>\n",
              "    <tr>\n",
              "      <th>94991</th>\n",
              "      <td>94992</td>\n",
              "      <td>2018-12-31 23:00:00</td>\n",
              "      <td>2180.2176</td>\n",
              "      <td>23</td>\n",
              "      <td>0</td>\n",
              "      <td>12</td>\n",
              "      <td>2018</td>\n",
              "    </tr>\n",
              "  </tbody>\n",
              "</table>\n",
              "</div>\n",
              "      <button class=\"colab-df-convert\" onclick=\"convertToInteractive('df-6bb8753e-91c3-4d9a-942c-63a1488e1f71')\"\n",
              "              title=\"Convert this dataframe to an interactive table.\"\n",
              "              style=\"display:none;\">\n",
              "        \n",
              "  <svg xmlns=\"http://www.w3.org/2000/svg\" height=\"24px\"viewBox=\"0 0 24 24\"\n",
              "       width=\"24px\">\n",
              "    <path d=\"M0 0h24v24H0V0z\" fill=\"none\"/>\n",
              "    <path d=\"M18.56 5.44l.94 2.06.94-2.06 2.06-.94-2.06-.94-.94-2.06-.94 2.06-2.06.94zm-11 1L8.5 8.5l.94-2.06 2.06-.94-2.06-.94L8.5 2.5l-.94 2.06-2.06.94zm10 10l.94 2.06.94-2.06 2.06-.94-2.06-.94-.94-2.06-.94 2.06-2.06.94z\"/><path d=\"M17.41 7.96l-1.37-1.37c-.4-.4-.92-.59-1.43-.59-.52 0-1.04.2-1.43.59L10.3 9.45l-7.72 7.72c-.78.78-.78 2.05 0 2.83L4 21.41c.39.39.9.59 1.41.59.51 0 1.02-.2 1.41-.59l7.78-7.78 2.81-2.81c.8-.78.8-2.07 0-2.86zM5.41 20L4 18.59l7.72-7.72 1.47 1.35L5.41 20z\"/>\n",
              "  </svg>\n",
              "      </button>\n",
              "      \n",
              "  <style>\n",
              "    .colab-df-container {\n",
              "      display:flex;\n",
              "      flex-wrap:wrap;\n",
              "      gap: 12px;\n",
              "    }\n",
              "\n",
              "    .colab-df-convert {\n",
              "      background-color: #E8F0FE;\n",
              "      border: none;\n",
              "      border-radius: 50%;\n",
              "      cursor: pointer;\n",
              "      display: none;\n",
              "      fill: #1967D2;\n",
              "      height: 32px;\n",
              "      padding: 0 0 0 0;\n",
              "      width: 32px;\n",
              "    }\n",
              "\n",
              "    .colab-df-convert:hover {\n",
              "      background-color: #E2EBFA;\n",
              "      box-shadow: 0px 1px 2px rgba(60, 64, 67, 0.3), 0px 1px 3px 1px rgba(60, 64, 67, 0.15);\n",
              "      fill: #174EA6;\n",
              "    }\n",
              "\n",
              "    [theme=dark] .colab-df-convert {\n",
              "      background-color: #3B4455;\n",
              "      fill: #D2E3FC;\n",
              "    }\n",
              "\n",
              "    [theme=dark] .colab-df-convert:hover {\n",
              "      background-color: #434B5C;\n",
              "      box-shadow: 0px 1px 3px 1px rgba(0, 0, 0, 0.15);\n",
              "      filter: drop-shadow(0px 1px 2px rgba(0, 0, 0, 0.3));\n",
              "      fill: #FFFFFF;\n",
              "    }\n",
              "  </style>\n",
              "\n",
              "      <script>\n",
              "        const buttonEl =\n",
              "          document.querySelector('#df-6bb8753e-91c3-4d9a-942c-63a1488e1f71 button.colab-df-convert');\n",
              "        buttonEl.style.display =\n",
              "          google.colab.kernel.accessAllowed ? 'block' : 'none';\n",
              "\n",
              "        async function convertToInteractive(key) {\n",
              "          const element = document.querySelector('#df-6bb8753e-91c3-4d9a-942c-63a1488e1f71');\n",
              "          const dataTable =\n",
              "            await google.colab.kernel.invokeFunction('convertToInteractive',\n",
              "                                                     [key], {});\n",
              "          if (!dataTable) return;\n",
              "\n",
              "          const docLinkHtml = 'Like what you see? Visit the ' +\n",
              "            '<a target=\"_blank\" href=https://colab.research.google.com/notebooks/data_table.ipynb>data table notebook</a>'\n",
              "            + ' to learn more about interactive tables.';\n",
              "          element.innerHTML = '';\n",
              "          dataTable['output_type'] = 'display_data';\n",
              "          await google.colab.output.renderOutput(dataTable, element);\n",
              "          const docLink = document.createElement('div');\n",
              "          docLink.innerHTML = docLinkHtml;\n",
              "          element.appendChild(docLink);\n",
              "        }\n",
              "      </script>\n",
              "    </div>\n",
              "  </div>\n",
              "  "
            ]
          },
          "metadata": {},
          "execution_count": 168
        }
      ]
    },
    {
      "cell_type": "code",
      "source": [
        "submission = test[data.shape[0]:]\n",
        "submission = submission.reset_index()\n",
        "submission['index'] = submission['index']+1\n",
        "submission = submission.drop(['ds', 'year'], axis = 1)\n",
        "submission.columns = ['row_id', 'energy']"
      ],
      "metadata": {
        "id": "PTB9gdPc1QHo"
      },
      "execution_count": null,
      "outputs": []
    },
    {
      "cell_type": "code",
      "source": [
        "submission.head()"
      ],
      "metadata": {
        "colab": {
          "base_uri": "https://localhost:8080/",
          "height": 206
        },
        "id": "BvTz-Ns11M7A",
        "outputId": "ab4e71cd-b727-4433-df11-ff3bb79895ab"
      },
      "execution_count": null,
      "outputs": [
        {
          "output_type": "execute_result",
          "data": {
            "text/plain": [
              "   row_id       energy\n",
              "0   94993  1927.190425\n",
              "1   94994  1835.644500\n",
              "2   94995  1768.314185\n",
              "3   94996  1733.501540\n",
              "4   94997  1737.330932"
            ],
            "text/html": [
              "\n",
              "  <div id=\"df-cba4dc72-b47b-47f0-8049-1c1ef5133c9b\">\n",
              "    <div class=\"colab-df-container\">\n",
              "      <div>\n",
              "<style scoped>\n",
              "    .dataframe tbody tr th:only-of-type {\n",
              "        vertical-align: middle;\n",
              "    }\n",
              "\n",
              "    .dataframe tbody tr th {\n",
              "        vertical-align: top;\n",
              "    }\n",
              "\n",
              "    .dataframe thead th {\n",
              "        text-align: right;\n",
              "    }\n",
              "</style>\n",
              "<table border=\"1\" class=\"dataframe\">\n",
              "  <thead>\n",
              "    <tr style=\"text-align: right;\">\n",
              "      <th></th>\n",
              "      <th>row_id</th>\n",
              "      <th>energy</th>\n",
              "    </tr>\n",
              "  </thead>\n",
              "  <tbody>\n",
              "    <tr>\n",
              "      <th>0</th>\n",
              "      <td>94993</td>\n",
              "      <td>1927.190425</td>\n",
              "    </tr>\n",
              "    <tr>\n",
              "      <th>1</th>\n",
              "      <td>94994</td>\n",
              "      <td>1835.644500</td>\n",
              "    </tr>\n",
              "    <tr>\n",
              "      <th>2</th>\n",
              "      <td>94995</td>\n",
              "      <td>1768.314185</td>\n",
              "    </tr>\n",
              "    <tr>\n",
              "      <th>3</th>\n",
              "      <td>94996</td>\n",
              "      <td>1733.501540</td>\n",
              "    </tr>\n",
              "    <tr>\n",
              "      <th>4</th>\n",
              "      <td>94997</td>\n",
              "      <td>1737.330932</td>\n",
              "    </tr>\n",
              "  </tbody>\n",
              "</table>\n",
              "</div>\n",
              "      <button class=\"colab-df-convert\" onclick=\"convertToInteractive('df-cba4dc72-b47b-47f0-8049-1c1ef5133c9b')\"\n",
              "              title=\"Convert this dataframe to an interactive table.\"\n",
              "              style=\"display:none;\">\n",
              "        \n",
              "  <svg xmlns=\"http://www.w3.org/2000/svg\" height=\"24px\"viewBox=\"0 0 24 24\"\n",
              "       width=\"24px\">\n",
              "    <path d=\"M0 0h24v24H0V0z\" fill=\"none\"/>\n",
              "    <path d=\"M18.56 5.44l.94 2.06.94-2.06 2.06-.94-2.06-.94-.94-2.06-.94 2.06-2.06.94zm-11 1L8.5 8.5l.94-2.06 2.06-.94-2.06-.94L8.5 2.5l-.94 2.06-2.06.94zm10 10l.94 2.06.94-2.06 2.06-.94-2.06-.94-.94-2.06-.94 2.06-2.06.94z\"/><path d=\"M17.41 7.96l-1.37-1.37c-.4-.4-.92-.59-1.43-.59-.52 0-1.04.2-1.43.59L10.3 9.45l-7.72 7.72c-.78.78-.78 2.05 0 2.83L4 21.41c.39.39.9.59 1.41.59.51 0 1.02-.2 1.41-.59l7.78-7.78 2.81-2.81c.8-.78.8-2.07 0-2.86zM5.41 20L4 18.59l7.72-7.72 1.47 1.35L5.41 20z\"/>\n",
              "  </svg>\n",
              "      </button>\n",
              "      \n",
              "  <style>\n",
              "    .colab-df-container {\n",
              "      display:flex;\n",
              "      flex-wrap:wrap;\n",
              "      gap: 12px;\n",
              "    }\n",
              "\n",
              "    .colab-df-convert {\n",
              "      background-color: #E8F0FE;\n",
              "      border: none;\n",
              "      border-radius: 50%;\n",
              "      cursor: pointer;\n",
              "      display: none;\n",
              "      fill: #1967D2;\n",
              "      height: 32px;\n",
              "      padding: 0 0 0 0;\n",
              "      width: 32px;\n",
              "    }\n",
              "\n",
              "    .colab-df-convert:hover {\n",
              "      background-color: #E2EBFA;\n",
              "      box-shadow: 0px 1px 2px rgba(60, 64, 67, 0.3), 0px 1px 3px 1px rgba(60, 64, 67, 0.15);\n",
              "      fill: #174EA6;\n",
              "    }\n",
              "\n",
              "    [theme=dark] .colab-df-convert {\n",
              "      background-color: #3B4455;\n",
              "      fill: #D2E3FC;\n",
              "    }\n",
              "\n",
              "    [theme=dark] .colab-df-convert:hover {\n",
              "      background-color: #434B5C;\n",
              "      box-shadow: 0px 1px 3px 1px rgba(0, 0, 0, 0.15);\n",
              "      filter: drop-shadow(0px 1px 2px rgba(0, 0, 0, 0.3));\n",
              "      fill: #FFFFFF;\n",
              "    }\n",
              "  </style>\n",
              "\n",
              "      <script>\n",
              "        const buttonEl =\n",
              "          document.querySelector('#df-cba4dc72-b47b-47f0-8049-1c1ef5133c9b button.colab-df-convert');\n",
              "        buttonEl.style.display =\n",
              "          google.colab.kernel.accessAllowed ? 'block' : 'none';\n",
              "\n",
              "        async function convertToInteractive(key) {\n",
              "          const element = document.querySelector('#df-cba4dc72-b47b-47f0-8049-1c1ef5133c9b');\n",
              "          const dataTable =\n",
              "            await google.colab.kernel.invokeFunction('convertToInteractive',\n",
              "                                                     [key], {});\n",
              "          if (!dataTable) return;\n",
              "\n",
              "          const docLinkHtml = 'Like what you see? Visit the ' +\n",
              "            '<a target=\"_blank\" href=https://colab.research.google.com/notebooks/data_table.ipynb>data table notebook</a>'\n",
              "            + ' to learn more about interactive tables.';\n",
              "          element.innerHTML = '';\n",
              "          dataTable['output_type'] = 'display_data';\n",
              "          await google.colab.output.renderOutput(dataTable, element);\n",
              "          const docLink = document.createElement('div');\n",
              "          docLink.innerHTML = docLinkHtml;\n",
              "          element.appendChild(docLink);\n",
              "        }\n",
              "      </script>\n",
              "    </div>\n",
              "  </div>\n",
              "  "
            ]
          },
          "metadata": {},
          "execution_count": 179
        }
      ]
    },
    {
      "cell_type": "code",
      "source": [
        "submission.to_csv(r'/submission.csv', index=False)"
      ],
      "metadata": {
        "id": "03SIn_b62_xH"
      },
      "execution_count": null,
      "outputs": []
    },
    {
      "cell_type": "markdown",
      "source": [
        "# End"
      ],
      "metadata": {
        "id": "_khA5xhiWnF_"
      }
    }
  ]
}